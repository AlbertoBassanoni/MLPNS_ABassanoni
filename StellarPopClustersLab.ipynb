{
  "nbformat": 4,
  "nbformat_minor": 0,
  "metadata": {
    "colab": {
      "provenance": [],
      "authorship_tag": "ABX9TyPGgpo+B6SN7HWoDbqVgrPB",
      "include_colab_link": true
    },
    "kernelspec": {
      "name": "python3",
      "display_name": "Python 3"
    },
    "language_info": {
      "name": "python"
    }
  },
  "cells": [
    {
      "cell_type": "markdown",
      "metadata": {
        "id": "view-in-github",
        "colab_type": "text"
      },
      "source": [
        "<a href=\"https://colab.research.google.com/github/AlbertoBassanoni/MLPNS_ABassanoni/blob/main/StellarPopClustersLab.ipynb\" target=\"_parent\"><img src=\"https://colab.research.google.com/assets/colab-badge.svg\" alt=\"Open In Colab\"/></a>"
      ]
    },
    {
      "cell_type": "markdown",
      "source": [
        "# Clustering analysis on Stellar Clusters\n",
        "\n",
        "Abbiamo dei dati sul color magnitude di un insieme di stelle, che ci dà un insieme di dati sulla luminosità e il colore di una stella (B-V, sottrazione di due bande di colori diversi). "
      ],
      "metadata": {
        "id": "9E82Uwu0pAje"
      }
    },
    {
      "cell_type": "code",
      "source": [
        "#Importazioni iniziali da fare per il nostro lavoro\n",
        "\n",
        "import pandas as pd\n",
        "import pylab as pl\n",
        "import sklearn as skl\n",
        "from sklearn import preprocessing\n",
        "import scipy as sp\n",
        "from scipy import spatial\n",
        "import numpy as np\n",
        "from sklearn import cluster\n"
      ],
      "metadata": {
        "id": "EKZN4DmQpG_V"
      },
      "execution_count": null,
      "outputs": []
    },
    {
      "cell_type": "code",
      "source": [
        "cmag = pd.read_csv(\"https://raw.githubusercontent.com/fedhere/MLPNS_FBianco/main/clustering/colormag_NGC2808.csv\", header=None)\n",
        "cmag"
      ],
      "metadata": {
        "colab": {
          "base_uri": "https://localhost:8080/",
          "height": 423
        },
        "id": "ukfxzNs4pnKs",
        "outputId": "496683ea-7365-46e2-c29a-d12a446cc589"
      },
      "execution_count": null,
      "outputs": [
        {
          "output_type": "execute_result",
          "data": {
            "text/plain": [
              "            0          1\n",
              "0   -0.286449  19.920797\n",
              "1   -0.273440  20.197264\n",
              "2   -0.270112  19.915151\n",
              "3   -0.243489  20.285819\n",
              "4   -0.213538  19.689023\n",
              "..        ...        ...\n",
              "596  1.540265  17.014947\n",
              "597  1.540265  18.009830\n",
              "598  1.540265  19.012137\n",
              "599  1.540265  20.007020\n",
              "600  1.540265  21.009327\n",
              "\n",
              "[601 rows x 2 columns]"
            ],
            "text/html": [
              "\n",
              "  <div id=\"df-89794771-ce22-4587-ba0a-c987bf9b74d3\">\n",
              "    <div class=\"colab-df-container\">\n",
              "      <div>\n",
              "<style scoped>\n",
              "    .dataframe tbody tr th:only-of-type {\n",
              "        vertical-align: middle;\n",
              "    }\n",
              "\n",
              "    .dataframe tbody tr th {\n",
              "        vertical-align: top;\n",
              "    }\n",
              "\n",
              "    .dataframe thead th {\n",
              "        text-align: right;\n",
              "    }\n",
              "</style>\n",
              "<table border=\"1\" class=\"dataframe\">\n",
              "  <thead>\n",
              "    <tr style=\"text-align: right;\">\n",
              "      <th></th>\n",
              "      <th>0</th>\n",
              "      <th>1</th>\n",
              "    </tr>\n",
              "  </thead>\n",
              "  <tbody>\n",
              "    <tr>\n",
              "      <th>0</th>\n",
              "      <td>-0.286449</td>\n",
              "      <td>19.920797</td>\n",
              "    </tr>\n",
              "    <tr>\n",
              "      <th>1</th>\n",
              "      <td>-0.273440</td>\n",
              "      <td>20.197264</td>\n",
              "    </tr>\n",
              "    <tr>\n",
              "      <th>2</th>\n",
              "      <td>-0.270112</td>\n",
              "      <td>19.915151</td>\n",
              "    </tr>\n",
              "    <tr>\n",
              "      <th>3</th>\n",
              "      <td>-0.243489</td>\n",
              "      <td>20.285819</td>\n",
              "    </tr>\n",
              "    <tr>\n",
              "      <th>4</th>\n",
              "      <td>-0.213538</td>\n",
              "      <td>19.689023</td>\n",
              "    </tr>\n",
              "    <tr>\n",
              "      <th>...</th>\n",
              "      <td>...</td>\n",
              "      <td>...</td>\n",
              "    </tr>\n",
              "    <tr>\n",
              "      <th>596</th>\n",
              "      <td>1.540265</td>\n",
              "      <td>17.014947</td>\n",
              "    </tr>\n",
              "    <tr>\n",
              "      <th>597</th>\n",
              "      <td>1.540265</td>\n",
              "      <td>18.009830</td>\n",
              "    </tr>\n",
              "    <tr>\n",
              "      <th>598</th>\n",
              "      <td>1.540265</td>\n",
              "      <td>19.012137</td>\n",
              "    </tr>\n",
              "    <tr>\n",
              "      <th>599</th>\n",
              "      <td>1.540265</td>\n",
              "      <td>20.007020</td>\n",
              "    </tr>\n",
              "    <tr>\n",
              "      <th>600</th>\n",
              "      <td>1.540265</td>\n",
              "      <td>21.009327</td>\n",
              "    </tr>\n",
              "  </tbody>\n",
              "</table>\n",
              "<p>601 rows × 2 columns</p>\n",
              "</div>\n",
              "      <button class=\"colab-df-convert\" onclick=\"convertToInteractive('df-89794771-ce22-4587-ba0a-c987bf9b74d3')\"\n",
              "              title=\"Convert this dataframe to an interactive table.\"\n",
              "              style=\"display:none;\">\n",
              "        \n",
              "  <svg xmlns=\"http://www.w3.org/2000/svg\" height=\"24px\"viewBox=\"0 0 24 24\"\n",
              "       width=\"24px\">\n",
              "    <path d=\"M0 0h24v24H0V0z\" fill=\"none\"/>\n",
              "    <path d=\"M18.56 5.44l.94 2.06.94-2.06 2.06-.94-2.06-.94-.94-2.06-.94 2.06-2.06.94zm-11 1L8.5 8.5l.94-2.06 2.06-.94-2.06-.94L8.5 2.5l-.94 2.06-2.06.94zm10 10l.94 2.06.94-2.06 2.06-.94-2.06-.94-.94-2.06-.94 2.06-2.06.94z\"/><path d=\"M17.41 7.96l-1.37-1.37c-.4-.4-.92-.59-1.43-.59-.52 0-1.04.2-1.43.59L10.3 9.45l-7.72 7.72c-.78.78-.78 2.05 0 2.83L4 21.41c.39.39.9.59 1.41.59.51 0 1.02-.2 1.41-.59l7.78-7.78 2.81-2.81c.8-.78.8-2.07 0-2.86zM5.41 20L4 18.59l7.72-7.72 1.47 1.35L5.41 20z\"/>\n",
              "  </svg>\n",
              "      </button>\n",
              "      \n",
              "  <style>\n",
              "    .colab-df-container {\n",
              "      display:flex;\n",
              "      flex-wrap:wrap;\n",
              "      gap: 12px;\n",
              "    }\n",
              "\n",
              "    .colab-df-convert {\n",
              "      background-color: #E8F0FE;\n",
              "      border: none;\n",
              "      border-radius: 50%;\n",
              "      cursor: pointer;\n",
              "      display: none;\n",
              "      fill: #1967D2;\n",
              "      height: 32px;\n",
              "      padding: 0 0 0 0;\n",
              "      width: 32px;\n",
              "    }\n",
              "\n",
              "    .colab-df-convert:hover {\n",
              "      background-color: #E2EBFA;\n",
              "      box-shadow: 0px 1px 2px rgba(60, 64, 67, 0.3), 0px 1px 3px 1px rgba(60, 64, 67, 0.15);\n",
              "      fill: #174EA6;\n",
              "    }\n",
              "\n",
              "    [theme=dark] .colab-df-convert {\n",
              "      background-color: #3B4455;\n",
              "      fill: #D2E3FC;\n",
              "    }\n",
              "\n",
              "    [theme=dark] .colab-df-convert:hover {\n",
              "      background-color: #434B5C;\n",
              "      box-shadow: 0px 1px 3px 1px rgba(0, 0, 0, 0.15);\n",
              "      filter: drop-shadow(0px 1px 2px rgba(0, 0, 0, 0.3));\n",
              "      fill: #FFFFFF;\n",
              "    }\n",
              "  </style>\n",
              "\n",
              "      <script>\n",
              "        const buttonEl =\n",
              "          document.querySelector('#df-89794771-ce22-4587-ba0a-c987bf9b74d3 button.colab-df-convert');\n",
              "        buttonEl.style.display =\n",
              "          google.colab.kernel.accessAllowed ? 'block' : 'none';\n",
              "\n",
              "        async function convertToInteractive(key) {\n",
              "          const element = document.querySelector('#df-89794771-ce22-4587-ba0a-c987bf9b74d3');\n",
              "          const dataTable =\n",
              "            await google.colab.kernel.invokeFunction('convertToInteractive',\n",
              "                                                     [key], {});\n",
              "          if (!dataTable) return;\n",
              "\n",
              "          const docLinkHtml = 'Like what you see? Visit the ' +\n",
              "            '<a target=\"_blank\" href=https://colab.research.google.com/notebooks/data_table.ipynb>data table notebook</a>'\n",
              "            + ' to learn more about interactive tables.';\n",
              "          element.innerHTML = '';\n",
              "          dataTable['output_type'] = 'display_data';\n",
              "          await google.colab.output.renderOutput(dataTable, element);\n",
              "          const docLink = document.createElement('div');\n",
              "          docLink.innerHTML = docLinkHtml;\n",
              "          element.appendChild(docLink);\n",
              "        }\n",
              "      </script>\n",
              "    </div>\n",
              "  </div>\n",
              "  "
            ]
          },
          "metadata": {},
          "execution_count": 3
        }
      ]
    },
    {
      "cell_type": "code",
      "source": [
        "#ci sono missing values?\n",
        "#NO! Il count mi dà 601 e 601 su entrambe le colonne, a posto!\n",
        "cmag.describe()"
      ],
      "metadata": {
        "colab": {
          "base_uri": "https://localhost:8080/",
          "height": 300
        },
        "id": "9VvQRKwcrDdt",
        "outputId": "4d9f7e3f-4fdd-4764-d827-51f9a835676d"
      },
      "execution_count": null,
      "outputs": [
        {
          "output_type": "execute_result",
          "data": {
            "text/plain": [
              "                0           1\n",
              "count  601.000000  601.000000\n",
              "mean     0.657683   18.751932\n",
              "std      0.410194    1.320065\n",
              "min     -0.286449   15.017758\n",
              "25%      0.485623   17.930904\n",
              "50%      0.753550   18.925512\n",
              "75%      0.911292   19.911214\n",
              "max      1.540265   21.016941"
            ],
            "text/html": [
              "\n",
              "  <div id=\"df-34eb2132-e5ec-4580-892c-e1fd0468f467\">\n",
              "    <div class=\"colab-df-container\">\n",
              "      <div>\n",
              "<style scoped>\n",
              "    .dataframe tbody tr th:only-of-type {\n",
              "        vertical-align: middle;\n",
              "    }\n",
              "\n",
              "    .dataframe tbody tr th {\n",
              "        vertical-align: top;\n",
              "    }\n",
              "\n",
              "    .dataframe thead th {\n",
              "        text-align: right;\n",
              "    }\n",
              "</style>\n",
              "<table border=\"1\" class=\"dataframe\">\n",
              "  <thead>\n",
              "    <tr style=\"text-align: right;\">\n",
              "      <th></th>\n",
              "      <th>0</th>\n",
              "      <th>1</th>\n",
              "    </tr>\n",
              "  </thead>\n",
              "  <tbody>\n",
              "    <tr>\n",
              "      <th>count</th>\n",
              "      <td>601.000000</td>\n",
              "      <td>601.000000</td>\n",
              "    </tr>\n",
              "    <tr>\n",
              "      <th>mean</th>\n",
              "      <td>0.657683</td>\n",
              "      <td>18.751932</td>\n",
              "    </tr>\n",
              "    <tr>\n",
              "      <th>std</th>\n",
              "      <td>0.410194</td>\n",
              "      <td>1.320065</td>\n",
              "    </tr>\n",
              "    <tr>\n",
              "      <th>min</th>\n",
              "      <td>-0.286449</td>\n",
              "      <td>15.017758</td>\n",
              "    </tr>\n",
              "    <tr>\n",
              "      <th>25%</th>\n",
              "      <td>0.485623</td>\n",
              "      <td>17.930904</td>\n",
              "    </tr>\n",
              "    <tr>\n",
              "      <th>50%</th>\n",
              "      <td>0.753550</td>\n",
              "      <td>18.925512</td>\n",
              "    </tr>\n",
              "    <tr>\n",
              "      <th>75%</th>\n",
              "      <td>0.911292</td>\n",
              "      <td>19.911214</td>\n",
              "    </tr>\n",
              "    <tr>\n",
              "      <th>max</th>\n",
              "      <td>1.540265</td>\n",
              "      <td>21.016941</td>\n",
              "    </tr>\n",
              "  </tbody>\n",
              "</table>\n",
              "</div>\n",
              "      <button class=\"colab-df-convert\" onclick=\"convertToInteractive('df-34eb2132-e5ec-4580-892c-e1fd0468f467')\"\n",
              "              title=\"Convert this dataframe to an interactive table.\"\n",
              "              style=\"display:none;\">\n",
              "        \n",
              "  <svg xmlns=\"http://www.w3.org/2000/svg\" height=\"24px\"viewBox=\"0 0 24 24\"\n",
              "       width=\"24px\">\n",
              "    <path d=\"M0 0h24v24H0V0z\" fill=\"none\"/>\n",
              "    <path d=\"M18.56 5.44l.94 2.06.94-2.06 2.06-.94-2.06-.94-.94-2.06-.94 2.06-2.06.94zm-11 1L8.5 8.5l.94-2.06 2.06-.94-2.06-.94L8.5 2.5l-.94 2.06-2.06.94zm10 10l.94 2.06.94-2.06 2.06-.94-2.06-.94-.94-2.06-.94 2.06-2.06.94z\"/><path d=\"M17.41 7.96l-1.37-1.37c-.4-.4-.92-.59-1.43-.59-.52 0-1.04.2-1.43.59L10.3 9.45l-7.72 7.72c-.78.78-.78 2.05 0 2.83L4 21.41c.39.39.9.59 1.41.59.51 0 1.02-.2 1.41-.59l7.78-7.78 2.81-2.81c.8-.78.8-2.07 0-2.86zM5.41 20L4 18.59l7.72-7.72 1.47 1.35L5.41 20z\"/>\n",
              "  </svg>\n",
              "      </button>\n",
              "      \n",
              "  <style>\n",
              "    .colab-df-container {\n",
              "      display:flex;\n",
              "      flex-wrap:wrap;\n",
              "      gap: 12px;\n",
              "    }\n",
              "\n",
              "    .colab-df-convert {\n",
              "      background-color: #E8F0FE;\n",
              "      border: none;\n",
              "      border-radius: 50%;\n",
              "      cursor: pointer;\n",
              "      display: none;\n",
              "      fill: #1967D2;\n",
              "      height: 32px;\n",
              "      padding: 0 0 0 0;\n",
              "      width: 32px;\n",
              "    }\n",
              "\n",
              "    .colab-df-convert:hover {\n",
              "      background-color: #E2EBFA;\n",
              "      box-shadow: 0px 1px 2px rgba(60, 64, 67, 0.3), 0px 1px 3px 1px rgba(60, 64, 67, 0.15);\n",
              "      fill: #174EA6;\n",
              "    }\n",
              "\n",
              "    [theme=dark] .colab-df-convert {\n",
              "      background-color: #3B4455;\n",
              "      fill: #D2E3FC;\n",
              "    }\n",
              "\n",
              "    [theme=dark] .colab-df-convert:hover {\n",
              "      background-color: #434B5C;\n",
              "      box-shadow: 0px 1px 3px 1px rgba(0, 0, 0, 0.15);\n",
              "      filter: drop-shadow(0px 1px 2px rgba(0, 0, 0, 0.3));\n",
              "      fill: #FFFFFF;\n",
              "    }\n",
              "  </style>\n",
              "\n",
              "      <script>\n",
              "        const buttonEl =\n",
              "          document.querySelector('#df-34eb2132-e5ec-4580-892c-e1fd0468f467 button.colab-df-convert');\n",
              "        buttonEl.style.display =\n",
              "          google.colab.kernel.accessAllowed ? 'block' : 'none';\n",
              "\n",
              "        async function convertToInteractive(key) {\n",
              "          const element = document.querySelector('#df-34eb2132-e5ec-4580-892c-e1fd0468f467');\n",
              "          const dataTable =\n",
              "            await google.colab.kernel.invokeFunction('convertToInteractive',\n",
              "                                                     [key], {});\n",
              "          if (!dataTable) return;\n",
              "\n",
              "          const docLinkHtml = 'Like what you see? Visit the ' +\n",
              "            '<a target=\"_blank\" href=https://colab.research.google.com/notebooks/data_table.ipynb>data table notebook</a>'\n",
              "            + ' to learn more about interactive tables.';\n",
              "          element.innerHTML = '';\n",
              "          dataTable['output_type'] = 'display_data';\n",
              "          await google.colab.output.renderOutput(dataTable, element);\n",
              "          const docLink = document.createElement('div');\n",
              "          docLink.innerHTML = docLinkHtml;\n",
              "          element.appendChild(docLink);\n",
              "        }\n",
              "      </script>\n",
              "    </div>\n",
              "  </div>\n",
              "  "
            ]
          },
          "metadata": {},
          "execution_count": 5
        }
      ]
    },
    {
      "cell_type": "code",
      "source": [
        "#Visualizziamo i dati!\n",
        "pl.figure(figsize=(5,5))\n",
        "ax= cmag.plot(x=0,y=1, kind=\"scatter\")\n",
        "ax.set_xlabel(\"B-V (color)\")\n",
        "ax.set_ylabel(\"V mag\")\n",
        "#problema! Le mie variabili nel feature space non sono sulla stessa scala!\n",
        "#meglio metterli su stessa scala\n",
        "ax.axis(\"equal\")\n",
        "\n",
        "pl.gca().invert_yaxis();"
      ],
      "metadata": {
        "colab": {
          "base_uri": "https://localhost:8080/",
          "height": 523
        },
        "id": "NvTjS61ypuP8",
        "outputId": "ed0d887e-148d-4011-ffff-16a359786f67"
      },
      "execution_count": null,
      "outputs": [
        {
          "output_type": "stream",
          "name": "stderr",
          "text": [
            "/usr/local/lib/python3.9/dist-packages/pandas/plotting/_matplotlib/core.py:1114: UserWarning: No data for colormapping provided via 'c'. Parameters 'cmap' will be ignored\n",
            "  scatter = ax.scatter(\n"
          ]
        },
        {
          "output_type": "display_data",
          "data": {
            "text/plain": [
              "<Figure size 500x500 with 0 Axes>"
            ]
          },
          "metadata": {}
        },
        {
          "output_type": "display_data",
          "data": {
            "text/plain": [
              "<Figure size 640x480 with 1 Axes>"
            ],
            "image/png": "[encoded data removed]"
          },
          "metadata": {}
        }
      ]
    },
    {
      "cell_type": "code",
      "source": [
        "#c'è un'evidente correlazione tra le variabili! quindi devo fare preprocessing\n",
        "cmag_scaled = preprocessing.scale(cmag, axis=0)"
      ],
      "metadata": {
        "id": "i4c2OpfjrOW1"
      },
      "execution_count": null,
      "outputs": []
    },
    {
      "cell_type": "code",
      "source": [
        "#sono corretti? Hanno media uguale a zero?\n",
        "preprocessing.scale(cmag, axis=0).mean(axis=0)"
      ],
      "metadata": {
        "colab": {
          "base_uri": "https://localhost:8080/"
        },
        "id": "4hFJZDW6r0BW",
        "outputId": "b21b0b65-b5d3-4bb7-f98c-89343086db06"
      },
      "execution_count": null,
      "outputs": [
        {
          "output_type": "execute_result",
          "data": {
            "text/plain": [
              "array([-9.45813958e-17, -1.84433722e-15])"
            ]
          },
          "metadata": {},
          "execution_count": 9
        }
      ]
    },
    {
      "cell_type": "code",
      "source": [
        "#hanno varianza uguale a uno?\n",
        "preprocessing.scale(cmag, axis=0).std(axis=0)"
      ],
      "metadata": {
        "colab": {
          "base_uri": "https://localhost:8080/"
        },
        "id": "nDdmRTGJr_g6",
        "outputId": "c49708d1-43b9-4bf8-e558-210aceb7523c"
      },
      "execution_count": null,
      "outputs": [
        {
          "output_type": "execute_result",
          "data": {
            "text/plain": [
              "array([1., 1.])"
            ]
          },
          "metadata": {},
          "execution_count": 10
        }
      ]
    },
    {
      "cell_type": "code",
      "source": [
        "#OK! Ho verificato che vanno bene. Ora li plotto:\n",
        "\n",
        "#Visualizziamo i dati!\n",
        "ax = pl.figure(figsize=(5,5)).add_subplot(111)\n",
        "ax.plot(cmag_scaled[:,0],cmag_scaled[:,1],'.')\n",
        "ax.set_xlabel(\"B-V (color)\")\n",
        "ax.set_ylabel(\"V mag\")\n",
        "#problema! Le mie variabili nel feature space non sono sulla stessa scala!\n",
        "#meglio metterli su stessa scala\n",
        "ax.axis(\"equal\")\n",
        "\n",
        "pl.gca().invert_yaxis();"
      ],
      "metadata": {
        "colab": {
          "base_uri": "https://localhost:8080/",
          "height": 465
        },
        "id": "3WCfuUzOsJef",
        "outputId": "b63a55d8-d7c0-477c-959d-89dd2fa291f9"
      },
      "execution_count": null,
      "outputs": [
        {
          "output_type": "display_data",
          "data": {
            "text/plain": [
              "<Figure size 500x500 with 1 Axes>"
            ],
            "image/png": "[encoded data removed]"
          },
          "metadata": {}
        }
      ]
    },
    {
      "cell_type": "code",
      "source": [
        "#Scalate le variabili con un opportuno atto di preprocessing, ora posso\n",
        "#utilizzare le funzioni di clustering\n",
        "\n",
        "#vediamo come funziona KMeans\n",
        "cluster.KMeans?\n",
        "\n",
        "#Questo algoritmo viene fatto iterare più volte,\n",
        "#fino a che non si ha convergenza"
      ],
      "metadata": {
        "id": "zb5qMyQ3vYGD"
      },
      "execution_count": null,
      "outputs": []
    },
    {
      "cell_type": "code",
      "source": [
        "#comincio con 3 clusters\n",
        "#creo il modello. Non ho bisogno di passare dei dati al modello\n",
        "\n",
        "model=cluster.KMeans(n_clusters=3, random_state=102)"
      ],
      "metadata": {
        "id": "HpTiJc7ywYCs"
      },
      "execution_count": null,
      "outputs": []
    },
    {
      "cell_type": "code",
      "source": [
        "#gli butto dentro i dati\n",
        "model.fit(cmag_scaled)"
      ],
      "metadata": {
        "colab": {
          "base_uri": "https://localhost:8080/",
          "height": 130
        },
        "id": "4izYVvQawpjY",
        "outputId": "53d579eb-a02e-4b3b-b2f0-4ec4c800306b"
      },
      "execution_count": null,
      "outputs": [
        {
          "output_type": "stream",
          "name": "stderr",
          "text": [
            "/usr/local/lib/python3.9/dist-packages/sklearn/cluster/_kmeans.py:870: FutureWarning: The default value of `n_init` will change from 10 to 'auto' in 1.4. Set the value of `n_init` explicitly to suppress the warning\n",
            "  warnings.warn(\n"
          ]
        },
        {
          "output_type": "execute_result",
          "data": {
            "text/plain": [
              "KMeans(n_clusters=3, random_state=102)"
            ],
            "text/html": [
              "<style>#sk-container-id-2 {color: black;background-color: white;}#sk-container-id-2 pre{padding: 0;}#sk-container-id-2 div.sk-toggleable {background-color: white;}#sk-container-id-2 label.sk-toggleable__label {cursor: pointer;display: block;width: 100%;margin-bottom: 0;padding: 0.3em;box-sizing: border-box;text-align: center;}#sk-container-id-2 label.sk-toggleable__label-arrow:before {content: \"▸\";float: left;margin-right: 0.25em;color: #696969;}#sk-container-id-2 label.sk-toggleable__label-arrow:hover:before {color: black;}#sk-container-id-2 div.sk-estimator:hover label.sk-toggleable__label-arrow:before {color: black;}#sk-container-id-2 div.sk-toggleable__content {max-height: 0;max-width: 0;overflow: hidden;text-align: left;background-color: #f0f8ff;}#sk-container-id-2 div.sk-toggleable__content pre {margin: 0.2em;color: black;border-radius: 0.25em;background-color: #f0f8ff;}#sk-container-id-2 input.sk-toggleable__control:checked~div.sk-toggleable__content {max-height: 200px;max-width: 100%;overflow: auto;}#sk-container-id-2 input.sk-toggleable__control:checked~label.sk-toggleable__label-arrow:before {content: \"▾\";}#sk-container-id-2 div.sk-estimator input.sk-toggleable__control:checked~label.sk-toggleable__label {background-color: #d4ebff;}#sk-container-id-2 div.sk-label input.sk-toggleable__control:checked~label.sk-toggleable__label {background-color: #d4ebff;}#sk-container-id-2 input.sk-hidden--visually {border: 0;clip: rect(1px 1px 1px 1px);clip: rect(1px, 1px, 1px, 1px);height: 1px;margin: -1px;overflow: hidden;padding: 0;position: absolute;width: 1px;}#sk-container-id-2 div.sk-estimator {font-family: monospace;background-color: #f0f8ff;border: 1px dotted black;border-radius: 0.25em;box-sizing: border-box;margin-bottom: 0.5em;}#sk-container-id-2 div.sk-estimator:hover {background-color: #d4ebff;}#sk-container-id-2 div.sk-parallel-item::after {content: \"\";width: 100%;border-bottom: 1px solid gray;flex-grow: 1;}#sk-container-id-2 div.sk-label:hover label.sk-toggleable__label {background-color: #d4ebff;}#sk-container-id-2 div.sk-serial::before {content: \"\";position: absolute;border-left: 1px solid gray;box-sizing: border-box;top: 0;bottom: 0;left: 50%;z-index: 0;}#sk-container-id-2 div.sk-serial {display: flex;flex-direction: column;align-items: center;background-color: white;padding-right: 0.2em;padding-left: 0.2em;position: relative;}#sk-container-id-2 div.sk-item {position: relative;z-index: 1;}#sk-container-id-2 div.sk-parallel {display: flex;align-items: stretch;justify-content: center;background-color: white;position: relative;}#sk-container-id-2 div.sk-item::before, #sk-container-id-2 div.sk-parallel-item::before {content: \"\";position: absolute;border-left: 1px solid gray;box-sizing: border-box;top: 0;bottom: 0;left: 50%;z-index: -1;}#sk-container-id-2 div.sk-parallel-item {display: flex;flex-direction: column;z-index: 1;position: relative;background-color: white;}#sk-container-id-2 div.sk-parallel-item:first-child::after {align-self: flex-end;width: 50%;}#sk-container-id-2 div.sk-parallel-item:last-child::after {align-self: flex-start;width: 50%;}#sk-container-id-2 div.sk-parallel-item:only-child::after {width: 0;}#sk-container-id-2 div.sk-dashed-wrapped {border: 1px dashed gray;margin: 0 0.4em 0.5em 0.4em;box-sizing: border-box;padding-bottom: 0.4em;background-color: white;}#sk-container-id-2 div.sk-label label {font-family: monospace;font-weight: bold;display: inline-block;line-height: 1.2em;}#sk-container-id-2 div.sk-label-container {text-align: center;}#sk-container-id-2 div.sk-container {/* jupyter's `normalize.less` sets `[hidden] { display: none; }` but bootstrap.min.css set `[hidden] { display: none !important; }` so we also need the `!important` here to be able to override the default hidden behavior on the sphinx rendered scikit-learn.org. See: https://github.com/scikit-learn/scikit-learn/issues/21755 */display: inline-block !important;position: relative;}#sk-container-id-2 div.sk-text-repr-fallback {display: none;}</style><div id=\"sk-container-id-2\" class=\"sk-top-container\"><div class=\"sk-text-repr-fallback\"><pre>KMeans(n_clusters=3, random_state=102)</pre><b>In a Jupyter environment, please rerun this cell to show the HTML representation or trust the notebook. <br />On GitHub, the HTML representation is unable to render, please try loading this page with nbviewer.org.</b></div><div class=\"sk-container\" hidden><div class=\"sk-item\"><div class=\"sk-estimator sk-toggleable\"><input class=\"sk-toggleable__control sk-hidden--visually\" id=\"sk-estimator-id-2\" type=\"checkbox\" checked><label for=\"sk-estimator-id-2\" class=\"sk-toggleable__label sk-toggleable__label-arrow\">KMeans</label><div class=\"sk-toggleable__content\"><pre>KMeans(n_clusters=3, random_state=102)</pre></div></div></div></div></div>"
            ]
          },
          "metadata": {},
          "execution_count": 17
        }
      ]
    },
    {
      "cell_type": "code",
      "source": [
        "model.labels_"
      ],
      "metadata": {
        "colab": {
          "base_uri": "https://localhost:8080/"
        },
        "id": "VIbW_hxrw6a2",
        "outputId": "40e3a17b-0cf3-4313-da0c-3be1b89e1260"
      },
      "execution_count": null,
      "outputs": [
        {
          "output_type": "execute_result",
          "data": {
            "text/plain": [
              "array([1, 1, 1, 1, 1, 1, 1, 1, 1, 1, 1, 1, 1, 1, 1, 1, 1, 1, 1, 1, 1, 1,\n",
              "       1, 1, 1, 1, 1, 1, 1, 1, 1, 1, 1, 1, 1, 1, 1, 1, 1, 1, 1, 1, 1, 1,\n",
              "       1, 1, 1, 1, 1, 1, 1, 1, 1, 1, 1, 1, 1, 1, 1, 1, 1, 1, 1, 1, 1, 1,\n",
              "       1, 1, 1, 1, 1, 1, 1, 1, 1, 1, 1, 1, 1, 1, 1, 1, 1, 1, 1, 1, 1, 1,\n",
              "       1, 1, 1, 1, 1, 1, 1, 1, 1, 1, 1, 1, 1, 1, 1, 1, 1, 1, 1, 1, 1, 1,\n",
              "       1, 1, 1, 1, 1, 1, 1, 1, 1, 1, 1, 1, 1, 2, 1, 2, 1, 2, 2, 1, 1, 2,\n",
              "       1, 2, 2, 0, 1, 2, 2, 1, 2, 2, 0, 2, 2, 0, 2, 0, 2, 0, 2, 2, 2, 0,\n",
              "       2, 0, 2, 0, 2, 2, 2, 2, 2, 0, 2, 0, 2, 2, 0, 2, 0, 2, 0, 2, 2, 2,\n",
              "       2, 2, 0, 2, 0, 2, 0, 0, 2, 0, 0, 2, 2, 0, 2, 2, 2, 2, 2, 2, 2, 2,\n",
              "       0, 0, 0, 2, 2, 2, 0, 2, 2, 2, 2, 0, 0, 2, 2, 2, 2, 0, 0, 0, 2, 0,\n",
              "       0, 2, 2, 2, 2, 2, 2, 2, 2, 2, 2, 2, 0, 0, 2, 2, 2, 2, 0, 0, 0, 2,\n",
              "       2, 2, 2, 2, 2, 2, 2, 2, 0, 2, 2, 2, 2, 0, 2, 2, 2, 2, 2, 0, 2, 2,\n",
              "       2, 2, 2, 2, 2, 2, 2, 0, 2, 2, 2, 2, 2, 2, 2, 2, 0, 2, 2, 2, 2, 0,\n",
              "       0, 2, 2, 2, 2, 2, 2, 2, 2, 2, 2, 2, 2, 2, 0, 2, 2, 2, 2, 0, 0, 2,\n",
              "       2, 2, 2, 0, 0, 2, 2, 2, 0, 0, 2, 2, 2, 2, 0, 0, 2, 2, 2, 2, 0, 2,\n",
              "       2, 2, 2, 2, 2, 2, 2, 2, 0, 0, 0, 2, 2, 0, 0, 0, 2, 2, 2, 2, 2, 2,\n",
              "       2, 0, 2, 2, 2, 2, 2, 0, 0, 2, 2, 0, 0, 2, 2, 2, 2, 2, 0, 0, 0, 0,\n",
              "       2, 2, 0, 0, 2, 2, 2, 2, 2, 2, 2, 0, 0, 2, 2, 2, 2, 0, 0, 2, 2, 0,\n",
              "       0, 0, 0, 2, 2, 2, 0, 2, 2, 2, 0, 0, 0, 0, 0, 2, 2, 2, 2, 0, 0, 0,\n",
              "       0, 2, 0, 0, 2, 2, 2, 0, 0, 0, 0, 0, 0, 0, 0, 2, 0, 2, 2, 2, 2, 0,\n",
              "       0, 0, 2, 0, 0, 0, 0, 2, 0, 0, 0, 0, 0, 0, 0, 2, 0, 0, 0, 0, 2, 0,\n",
              "       0, 2, 2, 0, 0, 0, 0, 0, 0, 2, 0, 0, 0, 0, 0, 0, 0, 2, 0, 0, 0, 0,\n",
              "       0, 2, 2, 0, 0, 0, 0, 0, 0, 2, 2, 0, 0, 0, 0, 2, 0, 0, 0, 0, 0, 2,\n",
              "       0, 0, 2, 0, 0, 0, 0, 0, 2, 0, 2, 0, 0, 0, 0, 2, 2, 0, 0, 0, 0, 0,\n",
              "       2, 0, 0, 2, 2, 0, 0, 0, 0, 0, 0, 0, 0, 0, 0, 0, 0, 0, 0, 0, 2, 2,\n",
              "       0, 0, 0, 2, 0, 0, 2, 0, 0, 0, 2, 0, 0, 0, 0, 2, 0, 0, 2, 0, 2, 0,\n",
              "       2, 0, 0, 2, 2, 0, 2, 2, 2, 2, 0, 2, 0, 2, 0, 0, 0, 0, 0, 2, 0, 2,\n",
              "       0, 0, 0, 0, 2, 2, 2], dtype=int32)"
            ]
          },
          "metadata": {},
          "execution_count": 18
        }
      ]
    },
    {
      "cell_type": "code",
      "source": [
        "#vediamo quali sono i centri dei clusters\n",
        "model.cluster_centers_"
      ],
      "metadata": {
        "colab": {
          "base_uri": "https://localhost:8080/"
        },
        "id": "SRCep5EsxJ4V",
        "outputId": "b2b6cbb5-04b3-42fd-caed-9ae2d7c2bf87"
      },
      "execution_count": null,
      "outputs": [
        {
          "output_type": "execute_result",
          "data": {
            "text/plain": [
              "array([[ 0.62251398, -1.09094667],\n",
              "       [-1.61167123,  0.31291912],\n",
              "       [ 0.2930383 ,  0.77187379]])"
            ]
          },
          "metadata": {},
          "execution_count": 19
        }
      ]
    },
    {
      "cell_type": "code",
      "source": [
        "#quante iterazioni ho dovuto fare?\n",
        "model.inertia_\n"
      ],
      "metadata": {
        "colab": {
          "base_uri": "https://localhost:8080/"
        },
        "id": "ekVQVdRKxaa5",
        "outputId": "d8f5324c-eacc-4137-e5c7-4ef690b7a911"
      },
      "execution_count": null,
      "outputs": [
        {
          "output_type": "execute_result",
          "data": {
            "text/plain": [
              "336.09752492000223"
            ]
          },
          "metadata": {},
          "execution_count": 20
        }
      ]
    },
    {
      "cell_type": "code",
      "source": [
        "ax = pl.figure(figsize=(5,5)).add_subplot(111)\n",
        "#opzione per plottare i dati sui tre clusters, con i=1,2,3\n",
        "for i in range(3): \n",
        "  #plotting dei cluster con diversi colori\n",
        "  ax.plot(cmag_scaled[model.labels_==i,0], cmag_scaled[model.labels_==i,1], '.')\n",
        "  #plotting dei centri dei diversi clusters, che indichiamo con una X nera\n",
        "  ax.plot(model.cluster_centers_[i,0], model.cluster_centers_[i,1], 'kx')\n",
        "\n",
        "#labels del mio plot\n",
        "ax.set_xlabel(\"B-V (color)\")\n",
        "ax.set_ylabel(\"V mag\")\n",
        "ax.axis('equal')\n",
        "\n",
        "#inverto l'asse y essendo delle magnitudini\n",
        "pl.gca().invert_yaxis();"
      ],
      "metadata": {
        "colab": {
          "base_uri": "https://localhost:8080/",
          "height": 465
        },
        "id": "MNzoZulSxhgO",
        "outputId": "407525e3-58dc-4b4f-c8a8-0dd0e93792b3"
      },
      "execution_count": null,
      "outputs": [
        {
          "output_type": "display_data",
          "data": {
            "text/plain": [
              "<Figure size 500x500 with 1 Axes>"
            ],
            "image/png": "[encoded data removed]"
          },
          "metadata": {}
        }
      ]
    },
    {
      "cell_type": "code",
      "source": [
        "#è sensato questo tipo di clustering? Oppure esiste un più intelligente insieme\n",
        "#di clustering in 3 gruppi? Sì, esiste! KMeans non lo può fare però, perché\n",
        "#KMeans si basa solo sulla distanza bidimensionale! Ma allora i cluster che si\n",
        "#trovano con KMeans saranno tutti clusters basati sulla distanza, e quindi sui\n",
        "#blobs sferici, e non riconosce dei vuoti all'interno del nostro feature space.\n",
        "\n",
        "#Un altro algoritmo sarebbe quello di non calcolare solo la distanza rispetto al\n",
        "#centro, ma anche la distanza tra i punti a due a due, per costruire un algoritmo\n",
        "#di clustering affinity based (ma ci dà una distanza d^2, probematica in termini\n",
        "#di costo computazionale)\n",
        "\n",
        "#esiste un algoritmo che mi sceglie lui quale sia il numero di centri adeguati?\n",
        "#Sì, si basa sull'inertia\n",
        "\n",
        "inertias = []\n",
        "for nc in range(2, 10):\n",
        "  model = cluster.KMeans(n_clusters=nc, random_state=302).fit(cmag_scaled)\n",
        "  inertias.append(model.inertia_)\n",
        "\n",
        "pl.plot(range(2,10), inertias)\n",
        "pl.ylabel(\"inertia\")\n",
        "pl.xlabel(\"n clusters\")\n",
        "\n",
        "\n",
        "#più l'inertia è bassa, più il numero di clusters è ok!"
      ],
      "metadata": {
        "colab": {
          "base_uri": "https://localhost:8080/",
          "height": 777
        },
        "id": "KzTQX1BAyab6",
        "outputId": "3f3f842c-f570-423f-adb7-92ccf763102d"
      },
      "execution_count": null,
      "outputs": [
        {
          "output_type": "stream",
          "name": "stderr",
          "text": [
            "/usr/local/lib/python3.9/dist-packages/sklearn/cluster/_kmeans.py:870: FutureWarning: The default value of `n_init` will change from 10 to 'auto' in 1.4. Set the value of `n_init` explicitly to suppress the warning\n",
            "  warnings.warn(\n",
            "/usr/local/lib/python3.9/dist-packages/sklearn/cluster/_kmeans.py:870: FutureWarning: The default value of `n_init` will change from 10 to 'auto' in 1.4. Set the value of `n_init` explicitly to suppress the warning\n",
            "  warnings.warn(\n",
            "/usr/local/lib/python3.9/dist-packages/sklearn/cluster/_kmeans.py:870: FutureWarning: The default value of `n_init` will change from 10 to 'auto' in 1.4. Set the value of `n_init` explicitly to suppress the warning\n",
            "  warnings.warn(\n",
            "/usr/local/lib/python3.9/dist-packages/sklearn/cluster/_kmeans.py:870: FutureWarning: The default value of `n_init` will change from 10 to 'auto' in 1.4. Set the value of `n_init` explicitly to suppress the warning\n",
            "  warnings.warn(\n",
            "/usr/local/lib/python3.9/dist-packages/sklearn/cluster/_kmeans.py:870: FutureWarning: The default value of `n_init` will change from 10 to 'auto' in 1.4. Set the value of `n_init` explicitly to suppress the warning\n",
            "  warnings.warn(\n",
            "/usr/local/lib/python3.9/dist-packages/sklearn/cluster/_kmeans.py:870: FutureWarning: The default value of `n_init` will change from 10 to 'auto' in 1.4. Set the value of `n_init` explicitly to suppress the warning\n",
            "  warnings.warn(\n",
            "/usr/local/lib/python3.9/dist-packages/sklearn/cluster/_kmeans.py:870: FutureWarning: The default value of `n_init` will change from 10 to 'auto' in 1.4. Set the value of `n_init` explicitly to suppress the warning\n",
            "  warnings.warn(\n",
            "/usr/local/lib/python3.9/dist-packages/sklearn/cluster/_kmeans.py:870: FutureWarning: The default value of `n_init` will change from 10 to 'auto' in 1.4. Set the value of `n_init` explicitly to suppress the warning\n",
            "  warnings.warn(\n"
          ]
        },
        {
          "output_type": "execute_result",
          "data": {
            "text/plain": [
              "Text(0.5, 0, 'n clusters')"
            ]
          },
          "metadata": {},
          "execution_count": 22
        },
        {
          "output_type": "display_data",
          "data": {
            "text/plain": [
              "<Figure size 640x480 with 1 Axes>"
            ],
            "image/png": "[encoded data removed]"
          },
          "metadata": {}
        }
      ]
    },
    {
      "cell_type": "code",
      "source": [
        "#introduciamo il model DB SCAN\n",
        "\n",
        "#i parametri standard sono:\n",
        "#epsilon=0.5 (mezza std)\n",
        "#n_points_for_cluster=5\n",
        "\n",
        "#ci butto dentro i dati con fit\n",
        "\n",
        "modeldbs = cluster.DBSCAN().fit(cmag_scaled)"
      ],
      "metadata": {
        "id": "cwZU9qqU1En9"
      },
      "execution_count": null,
      "outputs": []
    },
    {
      "cell_type": "code",
      "source": [
        "modeldbs.labels_\n"
      ],
      "metadata": {
        "colab": {
          "base_uri": "https://localhost:8080/"
        },
        "id": "-7Dkiw_-4Lfa",
        "outputId": "db81d10d-7c4e-4e5e-850f-4cb69f369edd"
      },
      "execution_count": null,
      "outputs": [
        {
          "output_type": "execute_result",
          "data": {
            "text/plain": [
              "array([ 0,  0,  0,  0,  0,  0,  0,  0,  0,  0,  0,  0,  0,  0,  0,  0,  0,\n",
              "        0,  0,  0,  0,  0,  0,  0,  0,  0,  0,  0,  0,  0,  0,  0,  0,  0,\n",
              "        0,  0,  0,  0,  0,  0,  0,  0,  0,  0,  0,  0,  0,  0,  0,  0,  0,\n",
              "        0,  0,  0,  0,  0,  0,  0,  0,  0,  0,  0,  0,  0,  0,  0,  0,  0,\n",
              "        0,  0,  0,  0,  0,  0,  0,  0,  0,  0,  0,  0,  0,  0,  0,  0,  0,\n",
              "        0,  0,  0,  0,  0,  0,  0,  0,  0,  0,  0,  0,  0,  0,  0,  0,  0,\n",
              "        0,  0,  0,  0,  0,  0,  0,  0,  0,  0,  0,  0,  0,  0,  0,  0,  0,\n",
              "        0,  0,  0,  0,  0,  0,  0,  0,  0,  0,  0,  0,  0,  0,  0,  0,  0,\n",
              "        0,  0,  0,  0,  0,  0,  0,  0,  0,  0,  0,  0,  0,  0,  0,  0,  0,\n",
              "        0,  0,  0,  0,  0,  0,  0,  0,  0,  0,  0,  0,  0,  0,  0,  0,  0,\n",
              "        0,  0,  0,  0,  0,  0,  0,  0,  0,  0,  0,  0,  0,  0,  0,  0,  0,\n",
              "        0,  0,  0,  0,  0,  0,  0,  0,  0,  0,  0,  0,  0,  0,  0,  0,  0,\n",
              "        0,  0,  0,  0,  0,  0,  0,  0,  0,  0,  0,  0,  0,  0,  0,  0,  0,\n",
              "        0,  0,  0,  0,  0,  0,  0,  0,  0,  0,  0,  0,  0,  0,  0,  0,  0,\n",
              "        0,  0,  0,  0,  0,  0,  0,  0,  0,  0,  0,  0,  0,  0,  0,  0,  0,\n",
              "        0,  0,  0,  0,  0,  0,  0,  0,  0,  0,  0,  0,  0,  0,  0,  0,  0,\n",
              "        0,  0,  0,  0,  0,  0,  0,  0,  0,  0,  0,  0,  0,  0,  0,  0,  0,\n",
              "        0,  0,  0,  0,  0,  0,  0,  0,  0,  0,  0,  0,  0,  0,  0,  0,  0,\n",
              "        0,  0,  0,  0,  0,  0,  0,  0,  0,  0,  0,  0,  0,  0,  0,  0,  0,\n",
              "        0,  0,  0,  0,  0,  0,  0,  0,  0,  0,  0,  0,  0,  0,  0,  0,  0,\n",
              "        0,  0,  0,  0,  0,  0,  0,  0,  0,  0,  0,  0,  0,  0,  0,  0,  0,\n",
              "        0,  0,  0,  0,  0,  0,  0,  0,  0,  0,  0,  0,  0,  0,  0,  0,  0,\n",
              "        0,  0,  0,  0,  0,  0,  0,  0,  0,  0,  0,  0,  0,  0,  0,  0,  0,\n",
              "        0,  0,  0,  0,  0,  0,  0,  0,  0,  0,  0,  0,  0,  0,  0,  0,  0,\n",
              "        0,  0,  0,  0,  0,  0,  0,  0,  0,  0,  0,  0,  0,  0,  0,  0,  0,\n",
              "        0,  0,  0,  0,  0,  0,  0,  0,  0,  0,  0,  0,  0,  0,  0,  0,  0,\n",
              "        0,  0,  0,  0,  0,  0,  0,  0,  0,  0,  0,  0,  0,  0,  0,  0,  0,\n",
              "        0,  0, -1,  0,  0,  0,  0,  0,  0,  0,  0,  0,  0,  0,  0,  0,  0,\n",
              "        0,  0,  0,  0,  0,  0,  0,  0, -1,  0,  0,  0,  0,  0,  0,  0,  0,\n",
              "        0,  0,  0,  0,  0,  0,  0,  0,  0,  0,  0,  0,  0,  0,  0,  0,  0,\n",
              "        0,  0,  0,  0,  0,  0,  0,  0,  0,  0,  0,  0,  0,  0,  0,  0,  0,\n",
              "        0,  0,  0,  0,  0,  0,  0,  0,  0,  0,  0,  0,  0,  0,  0,  0,  0,\n",
              "        0,  0,  0,  0,  0,  0,  0,  0,  0,  0,  0,  0,  0,  0,  0,  0,  0,\n",
              "        0,  0,  0,  0,  0,  0,  0,  0,  0,  0,  0,  0,  0,  0,  0,  0,  0,\n",
              "        0,  0,  0,  0,  0,  0,  0,  0,  0,  0,  0,  0,  0,  0,  0, -1, -1,\n",
              "        0,  0,  0,  0, -1, -1])"
            ]
          },
          "metadata": {},
          "execution_count": 25
        }
      ]
    },
    {
      "cell_type": "code",
      "source": [
        "# per ogni label che ho scelto, plotta i dati che ho scelto\n",
        "\n",
        "ax = pl.figure(figsize=(5,5)).add_subplot(111)\n",
        "for i in  np.unique(modeldbs.labels_):\n",
        "  ax.plot(cmag_scaled[modeldbs.labels_==i,0], cmag_scaled[modeldbs.labels_==i,1], '.')\n",
        "\n",
        "ax.set_xlabel(\"B-V (color)\")\n",
        "ax.set_ylabel(\"V mag\")\n",
        "ax.axis('equal')\n",
        "\n",
        "pl.gca().invert_yaxis();"
      ],
      "metadata": {
        "colab": {
          "base_uri": "https://localhost:8080/",
          "height": 465
        },
        "id": "YXyNju9Y4kPe",
        "outputId": "a4db3197-bf51-494e-fe38-7d1cd5420a9a"
      },
      "execution_count": null,
      "outputs": [
        {
          "output_type": "display_data",
          "data": {
            "text/plain": [
              "<Figure size 500x500 with 1 Axes>"
            ],
            "image/png": "[encoded data removed]"
          },
          "metadata": {}
        }
      ]
    },
    {
      "cell_type": "code",
      "source": [
        "#whoops! Ho trovato un solo cluster! Questo perché la mia definizione di clustering è\n",
        "#molto poco restrittiva e generosa. Se uso un epsilon troppo piccolo viceversa\n",
        "#trovo tutti outliers\n",
        "\n",
        "#se volessi accanirmi ad utilizzare DBSCAN, dovrei trovare quale epsilon buona\n",
        "#utilizzare! Per farlo, vediamo per quali epsilon ho diversi numeri di cluster\n",
        "\n",
        "#Sto facendo un hyperparameter greed search!\n",
        "\n",
        "for e in np.arange(0.001, 1, 0.001):\n",
        "  modeldbs = cluster.DBSCAN(eps=e, min_samples=10).fit(cmag_scaled)\n",
        "  #ora se il massimo numero di label è > 0, ossia se ho almeno due cluster,\n",
        "  #allora stampami il numero di cluster\n",
        "  if modeldbs.labels_.max() > 0:\n",
        "    print(e, modeldbs.labels_.max())\n"
      ],
      "metadata": {
        "colab": {
          "base_uri": "https://localhost:8080/"
        },
        "id": "5yvuYneU4q0V",
        "outputId": "9419c50b-12c2-4465-e30d-fbfd044d2b1c"
      },
      "execution_count": null,
      "outputs": [
        {
          "output_type": "stream",
          "name": "stdout",
          "text": [
            "0.109 1\n",
            "0.11 1\n",
            "0.111 1\n",
            "0.112 2\n",
            "0.113 3\n",
            "0.114 3\n",
            "0.115 3\n",
            "0.116 6\n",
            "0.117 8\n",
            "0.11800000000000001 10\n",
            "0.11900000000000001 11\n",
            "0.12000000000000001 12\n",
            "0.121 12\n",
            "0.122 12\n",
            "0.123 13\n",
            "0.124 13\n",
            "0.125 9\n",
            "0.126 6\n",
            "0.127 6\n",
            "0.128 7\n",
            "0.129 7\n",
            "0.13 6\n",
            "0.131 6\n",
            "0.132 5\n",
            "0.133 5\n",
            "0.134 5\n",
            "0.135 5\n",
            "0.136 5\n",
            "0.137 5\n",
            "0.138 4\n",
            "0.139 3\n",
            "0.14 3\n",
            "0.14100000000000001 3\n",
            "0.14200000000000002 4\n",
            "0.14300000000000002 4\n",
            "0.14400000000000002 4\n",
            "0.14500000000000002 4\n",
            "0.146 5\n",
            "0.147 6\n",
            "0.148 6\n",
            "0.149 6\n",
            "0.15 6\n",
            "0.151 6\n",
            "0.152 5\n",
            "0.153 6\n",
            "0.154 6\n",
            "0.155 6\n",
            "0.156 6\n",
            "0.157 6\n",
            "0.158 6\n",
            "0.159 7\n",
            "0.16 7\n",
            "0.161 7\n",
            "0.162 7\n",
            "0.163 7\n",
            "0.164 7\n",
            "0.165 7\n",
            "0.166 7\n",
            "0.167 7\n",
            "0.168 7\n",
            "0.169 6\n",
            "0.17 6\n",
            "0.171 6\n",
            "0.17200000000000001 6\n",
            "0.17300000000000001 6\n",
            "0.17400000000000002 5\n",
            "0.17500000000000002 5\n",
            "0.17600000000000002 5\n",
            "0.177 5\n",
            "0.178 5\n",
            "0.179 4\n",
            "0.18 4\n",
            "0.181 4\n",
            "0.182 4\n",
            "0.183 4\n",
            "0.184 4\n",
            "0.185 3\n",
            "0.186 3\n",
            "0.187 3\n",
            "0.188 3\n",
            "0.189 3\n",
            "0.19 3\n",
            "0.191 3\n",
            "0.192 3\n",
            "0.193 3\n",
            "0.194 3\n",
            "0.195 3\n",
            "0.196 3\n",
            "0.197 3\n",
            "0.198 2\n",
            "0.199 2\n",
            "0.2 2\n",
            "0.201 2\n",
            "0.202 2\n",
            "0.203 2\n",
            "0.20400000000000001 2\n",
            "0.20500000000000002 2\n",
            "0.20600000000000002 2\n",
            "0.20700000000000002 2\n",
            "0.20800000000000002 2\n",
            "0.20900000000000002 2\n",
            "0.21 2\n",
            "0.211 2\n",
            "0.212 2\n",
            "0.213 2\n",
            "0.214 2\n",
            "0.215 2\n",
            "0.216 2\n",
            "0.217 2\n",
            "0.218 2\n",
            "0.219 2\n",
            "0.22 2\n",
            "0.221 2\n",
            "0.222 2\n",
            "0.223 2\n",
            "0.224 2\n",
            "0.225 2\n",
            "0.226 2\n",
            "0.227 2\n",
            "0.228 2\n",
            "0.229 2\n",
            "0.23 1\n",
            "0.231 1\n",
            "0.232 1\n",
            "0.233 1\n",
            "0.234 1\n",
            "0.23500000000000001 1\n",
            "0.23600000000000002 1\n",
            "0.23700000000000002 1\n",
            "0.23800000000000002 1\n",
            "0.23900000000000002 1\n",
            "0.24000000000000002 1\n",
            "0.241 1\n",
            "0.242 1\n",
            "0.243 1\n",
            "0.244 1\n",
            "0.245 1\n",
            "0.246 1\n",
            "0.247 1\n",
            "0.248 1\n",
            "0.249 1\n",
            "0.25 1\n",
            "0.251 1\n",
            "0.252 1\n",
            "0.253 1\n",
            "0.254 1\n",
            "0.255 1\n",
            "0.256 1\n",
            "0.257 1\n",
            "0.258 1\n",
            "0.259 1\n",
            "0.26 1\n",
            "0.261 1\n",
            "0.262 1\n",
            "0.263 1\n",
            "0.264 1\n",
            "0.265 1\n",
            "0.266 1\n",
            "0.267 1\n",
            "0.268 1\n",
            "0.269 1\n",
            "0.27 1\n",
            "0.271 1\n",
            "0.272 1\n",
            "0.273 1\n",
            "0.274 1\n",
            "0.275 1\n",
            "0.276 1\n",
            "0.277 1\n",
            "0.278 1\n",
            "0.279 1\n",
            "0.28 1\n",
            "0.281 1\n",
            "0.28200000000000003 1\n",
            "0.28300000000000003 1\n",
            "0.28400000000000003 1\n",
            "0.28500000000000003 1\n",
            "0.28600000000000003 1\n",
            "0.28700000000000003 1\n",
            "0.28800000000000003 1\n",
            "0.28900000000000003 1\n",
            "0.29 1\n",
            "0.291 1\n",
            "0.292 1\n",
            "0.293 1\n",
            "0.294 1\n",
            "0.295 1\n",
            "0.296 1\n",
            "0.297 1\n",
            "0.298 1\n",
            "0.299 1\n",
            "0.3 1\n",
            "0.301 1\n",
            "0.302 1\n",
            "0.303 1\n",
            "0.304 1\n",
            "0.305 1\n",
            "0.306 1\n",
            "0.307 1\n",
            "0.308 1\n",
            "0.309 1\n",
            "0.31 1\n",
            "0.311 1\n",
            "0.312 1\n",
            "0.313 1\n",
            "0.314 1\n",
            "0.315 1\n",
            "0.316 1\n",
            "0.317 1\n",
            "0.318 1\n",
            "0.319 1\n",
            "0.32 1\n",
            "0.321 1\n",
            "0.322 1\n",
            "0.323 1\n",
            "0.324 1\n",
            "0.325 1\n",
            "0.326 1\n",
            "0.327 1\n",
            "0.328 1\n",
            "0.329 1\n",
            "0.33 1\n",
            "0.331 1\n",
            "0.332 1\n",
            "0.333 1\n",
            "0.334 1\n",
            "0.335 1\n",
            "0.336 1\n",
            "0.337 1\n",
            "0.338 1\n",
            "0.339 1\n",
            "0.34 1\n",
            "0.341 1\n",
            "0.342 1\n",
            "0.343 1\n",
            "0.34400000000000003 1\n",
            "0.34500000000000003 1\n",
            "0.34600000000000003 1\n",
            "0.34700000000000003 1\n",
            "0.34800000000000003 1\n",
            "0.34900000000000003 1\n",
            "0.35000000000000003 1\n",
            "0.35100000000000003 1\n",
            "0.35200000000000004 1\n",
            "0.353 1\n",
            "0.354 1\n",
            "0.355 1\n",
            "0.356 1\n",
            "0.357 1\n",
            "0.358 1\n",
            "0.359 1\n",
            "0.36 1\n",
            "0.361 1\n",
            "0.362 1\n",
            "0.363 1\n",
            "0.364 1\n",
            "0.365 1\n",
            "0.366 1\n",
            "0.367 1\n",
            "0.368 1\n",
            "0.369 1\n",
            "0.37 1\n",
            "0.371 1\n",
            "0.372 1\n",
            "0.373 1\n",
            "0.374 1\n",
            "0.375 1\n",
            "0.376 1\n",
            "0.377 1\n",
            "0.378 1\n",
            "0.379 1\n",
            "0.38 1\n",
            "0.381 1\n",
            "0.382 1\n",
            "0.383 1\n",
            "0.384 1\n",
            "0.385 1\n",
            "0.386 1\n",
            "0.387 1\n",
            "0.388 1\n",
            "0.389 1\n",
            "0.39 1\n",
            "0.391 1\n",
            "0.392 1\n",
            "0.393 1\n",
            "0.394 1\n",
            "0.395 1\n",
            "0.396 1\n",
            "0.397 1\n",
            "0.398 1\n",
            "0.399 1\n",
            "0.4 1\n",
            "0.401 1\n",
            "0.402 1\n",
            "0.403 1\n",
            "0.404 1\n",
            "0.405 1\n",
            "0.406 1\n",
            "0.40700000000000003 1\n",
            "0.40800000000000003 1\n",
            "0.40900000000000003 1\n",
            "0.41000000000000003 1\n",
            "0.41100000000000003 1\n",
            "0.41200000000000003 1\n",
            "0.41300000000000003 1\n",
            "0.41400000000000003 1\n",
            "0.41500000000000004 1\n",
            "0.41600000000000004 1\n",
            "0.41700000000000004 1\n",
            "0.418 1\n",
            "0.419 1\n",
            "0.42 1\n",
            "0.421 1\n",
            "0.422 1\n",
            "0.423 1\n",
            "0.424 1\n",
            "0.425 1\n",
            "0.426 1\n",
            "0.427 1\n",
            "0.428 1\n",
            "0.429 1\n",
            "0.43 1\n",
            "0.431 1\n",
            "0.432 1\n",
            "0.433 1\n",
            "0.434 1\n",
            "0.435 1\n",
            "0.436 1\n",
            "0.437 1\n",
            "0.438 1\n",
            "0.439 1\n",
            "0.44 1\n",
            "0.441 1\n",
            "0.442 1\n",
            "0.443 1\n",
            "0.444 1\n",
            "0.445 1\n",
            "0.446 1\n",
            "0.447 1\n",
            "0.448 1\n",
            "0.449 1\n",
            "0.45 1\n"
          ]
        }
      ]
    },
    {
      "cell_type": "code",
      "source": [
        "#Ho scelto come hyperparameter epsilon=0.2, per cui mi aspetto di avere\n",
        "#3 clusters! Scelta arbitraria, ma sapevo da domain conditions che i cluster\n",
        "#dovevano essere 3, e scelgo come numero minimo di samples 10;\n",
        "\n",
        "\n",
        "#plotto tutto\n",
        "\n",
        "ax = pl.figure(figsize=(5,5)).add_subplot(111)\n",
        "modeldbs = cluster.DBSCAN(eps=0.2, min_samples=10).fit(cmag_scaled)\n",
        "for i in  np.unique(modeldbs.labels_):\n",
        "  ax.plot(cmag_scaled[modeldbs.labels_==i,0], cmag_scaled[modeldbs.labels_==i,1], '.')\n",
        "\n",
        "ax.set_xlabel(\"B-V (color)\")\n",
        "ax.set_ylabel(\"V mag\")\n",
        "ax.axis('equal')\n",
        "\n",
        "pl.gca().invert_yaxis();"
      ],
      "metadata": {
        "colab": {
          "base_uri": "https://localhost:8080/",
          "height": 465
        },
        "id": "SRo2x32a58xv",
        "outputId": "50f2a86f-9246-4380-ca67-4588448784f5"
      },
      "execution_count": 31,
      "outputs": [
        {
          "output_type": "display_data",
          "data": {
            "text/plain": [
              "<Figure size 500x500 with 1 Axes>"
            ],
            "image/png": "[encoded data removed]"
          },
          "metadata": {}
        }
      ]
    }
  ]
}