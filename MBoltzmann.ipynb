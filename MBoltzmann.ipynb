{
  "nbformat": 4,
  "nbformat_minor": 0,
  "metadata": {
    "colab": {
      "provenance": [],
      "include_colab_link": true
    },
    "kernelspec": {
      "display_name": "Python 3",
      "language": "python",
      "name": "python3"
    },
    "language_info": {
      "codemirror_mode": {
        "name": "ipython",
        "version": 3
      },
      "file_extension": ".py",
      "mimetype": "text/x-python",
      "name": "python",
      "nbconvert_exporter": "python",
      "pygments_lexer": "ipython3",
      "version": "3.7.3"
    },
    "latex_envs": {
      "LaTeX_envs_menu_present": true,
      "autoclose": false,
      "autocomplete": true,
      "bibliofile": "biblio.bib",
      "cite_by": "apalike",
      "current_citInitial": 1,
      "eqLabelWithNumbers": true,
      "eqNumInitial": 1,
      "hotkeys": {
        "equation": "Ctrl-E",
        "itemize": "Ctrl-I"
      },
      "labels_anchors": false,
      "latex_user_defs": false,
      "report_style_numbering": false,
      "user_envs_cfg": false
    },
    "nbTranslate": {
      "displayLangs": [
        "*"
      ],
      "hotkey": "alt-t",
      "langInMainMenu": true,
      "sourceLang": "en",
      "targetLang": "fr",
      "useGoogleTranslate": true
    },
    "toc": {
      "base_numbering": 1,
      "nav_menu": {},
      "number_sections": true,
      "sideBar": true,
      "skip_h1_title": false,
      "title_cell": "Table of Contents",
      "title_sidebar": "Contents",
      "toc_cell": false,
      "toc_position": {},
      "toc_section_display": true,
      "toc_window_display": false
    }
  },
  "cells": [
    {
      "cell_type": "markdown",
      "metadata": {
        "id": "view-in-github",
        "colab_type": "text"
      },
      "source": [
        "<a href=\"https://colab.research.google.com/github/AlbertoBassanoni/MLPNS_ABassanoni/blob/main/MBoltzmann.ipynb\" target=\"_parent\"><img src=\"https://colab.research.google.com/assets/colab-badge.svg\" alt=\"Open In Colab\"/></a>"
      ]
    },
    {
      "cell_type": "markdown",
      "metadata": {
        "ExecuteTime": {
          "end_time": "2019-09-04T04:50:01.872913Z",
          "start_time": "2019-09-04T04:50:01.869703Z"
        },
        "id": "dk3tkh__KvAc"
      },
      "source": [
        " Written by Federica B. Bianco @fedhere\n",
        "UDel DSPS"
      ]
    },
    {
      "cell_type": "code",
      "metadata": {
        "ExecuteTime": {
          "end_time": "2019-09-07T17:36:53.625807Z",
          "start_time": "2019-09-07T17:36:53.393906Z"
        },
        "colab": {
          "base_uri": "https://localhost:8080/"
        },
        "id": "iQaonMUBqtX2",
        "outputId": "2e24e03d-fade-44a4-9a18-ba8c09d96c32"
      },
      "source": [
        "# Garantisce la compatibilità di alcune funzioni tra Python 2 e Python 3\n",
        "from __future__ import print_function, division\n",
        "\n",
        "# importazione dei pacchetti compilati già visti in Python Bootcamp\n",
        "import numpy as np\n",
        "import scipy as sp\n",
        "from scipy import stats\n",
        "\n",
        "# pylab serve per i plotting\n",
        "import pylab as pl\n",
        "\n",
        "#questa linea di codice non serve su colab (utile su HPC e su diverse piattaforme)\n",
        "%pylab inline\n",
        "#pl.style.use(\"https://raw.githubusercontent.com/fedhere/DSPS/master/fbb.mplstyle\")\n"
      ],
      "execution_count": 3,
      "outputs": [
        {
          "output_type": "stream",
          "name": "stdout",
          "text": [
            "Populating the interactive namespace from numpy and matplotlib\n"
          ]
        }
      ]
    },
    {
      "cell_type": "code",
      "source": [
        "# questo è come viene scritto in Python 2, ora si usa Python 3\n",
        "# print \"Hello World\"\n",
        "# normalmente si scrive come function\n",
        "print (\"Hello World\")"
      ],
      "metadata": {
        "colab": {
          "base_uri": "https://localhost:8080/"
        },
        "id": "s1kK6Yw1CydX",
        "outputId": "7165d03d-46d5-411d-83ca-bef64054dc7f"
      },
      "execution_count": 1,
      "outputs": [
        {
          "output_type": "stream",
          "name": "stdout",
          "text": [
            "Hello World\n"
          ]
        }
      ]
    },
    {
      "cell_type": "markdown",
      "metadata": {
        "id": "zu5QKDi5b7vW"
      },
      "source": [
        "# Homework 1: Maxwell Boltzmann distribution"
      ]
    },
    {
      "cell_type": "markdown",
      "metadata": {
        "id": "ueaB0mHCO_iM"
      },
      "source": [
        "In Physics, statistics can help us describe the macroscopic behavior of a system if we know its microscopic properties in a statistical sense. We cannot know the motion of each molecule in a gas, but we can know the distribution of their velocities and positions.   In the mid to late 1800s, James Clerk Maxwell and Ludwig Boltzmann modeled the *distribution of speed of molecules in a gas*. As you probably know, and can intuitive realize, the speed of the molecules depends on the temperature of the gas, which is a macroscopic property, the velocity of the molecules is different for different gas temperatures. **This distribution of velocities is called the Maxwell-Boltzmann distribution.**\n"
      ]
    },
    {
      "cell_type": "markdown",
      "metadata": {
        "id": "7LpR51uQSvN9"
      },
      "source": [
        "It turns out that the Maxwel-Boltzmann distribution is a special case of the [*Chi distribution*](https://en.wikipedia.org/wiki/Chi_distribution) with 3 degrees of freedom, and with a scale parameter corresponding to the temperature in some way. \n"
      ]
    },
    {
      "cell_type": "markdown",
      "metadata": {
        "id": "Pc25lN9SUxQL"
      },
      "source": [
        "Below I have created 3 distributions. Based on the description above\n",
        "\n",
        "\n",
        "# 1) label the axes in the plot"
      ]
    },
    {
      "cell_type": "code",
      "source": [
        "# questa stringa mi da la signature e la docstring della funzione chi\n",
        "# i metodi sono ad esempio la PDF e CDF. Noi vogliamo generare\n",
        "# variabili estratte da questa distribuzione, cioè usiamo:\n",
        "# rvs(df, loc=0, scale=1, size=1, random_state=Non)\n",
        "\n",
        "# dove df sono i degrees of freedom\n",
        "# dove scale è il mio scaling parameter\n",
        "sp.stats.chi?"
      ],
      "metadata": {
        "id": "ky19z1EyEdSs"
      },
      "execution_count": 13,
      "outputs": []
    },
    {
      "cell_type": "code",
      "metadata": {
        "ExecuteTime": {
          "end_time": "2019-09-07T17:36:56.493299Z",
          "start_time": "2019-09-07T17:36:56.021862Z"
        },
        "colab": {
          "base_uri": "https://localhost:8080/",
          "height": 296
        },
        "id": "LZm2afzhUwuG",
        "outputId": "de881dd8-9ebc-4f3a-95df-f0a7b2a74995"
      },
      "source": [
        "np.random.randn(123)\n",
        "fig, ax = pl.subplots()\n",
        "for a in [0.2, 0.6, 1.0]:\n",
        "    ax.hist(sp.stats.chi.rvs(df=3, scale=a, size=1000), # could as well be sp.stats.maxwell.rvs(scale=a, size=1000)\n",
        "          bins=np.arange(0,5,0.1), alpha=0.7,\n",
        "       label=\"a = %.1f\"%a);\n",
        "\n",
        "pl.legend();\n",
        "# your code to add labels here\n",
        "\n",
        "pl.ylabel(\"Number of particles in the simulation\")\n",
        "pl.xlabel(\"Speed of particles in the simulation\")"
      ],
      "execution_count": 11,
      "outputs": [
        {
          "output_type": "execute_result",
          "data": {
            "text/plain": [
              "Text(0.5, 0, 'Speed of particles in the simulation')"
            ]
          },
          "metadata": {},
          "execution_count": 11
        },
        {
          "output_type": "display_data",
          "data": {
            "text/plain": [
              "<Figure size 432x288 with 1 Axes>"
            ],
            "image/png": "[encoded data removed]"
          },
          "metadata": {
            "needs_background": "light"
          }
        }
      ]
    },
    {
      "cell_type": "code",
      "source": [
        "sp.stats.chi.rvs(df=3, scale=1.0, size=1000).mean()"
      ],
      "metadata": {
        "colab": {
          "base_uri": "https://localhost:8080/"
        },
        "id": "3uYH4Yp0IFt-",
        "outputId": "8ceb8f74-3b0f-4a82-b85a-5a338b756897"
      },
      "execution_count": 14,
      "outputs": [
        {
          "output_type": "execute_result",
          "data": {
            "text/plain": [
              "1.5605538027717343"
            ]
          },
          "metadata": {},
          "execution_count": 14
        }
      ]
    },
    {
      "cell_type": "markdown",
      "metadata": {
        "id": "MGdILsLAaopl"
      },
      "source": [
        "# 2) knowing that the *scale* parameter $a$  is a function of the temperature  *T*, and that the dependency is to a power 1/2, which is correct:\n",
        "   **$a \\propto \\sqrt{T}$**  or **$a \\propto \\sqrt{1/T}$**? \n",
        "\n",
        "   (in other words, is the dependency on the root of the temperature or on the inverse root of the temperature ?)\n",
        " "
      ]
    },
    {
      "cell_type": "markdown",
      "metadata": {
        "id": "vMGhorbvcrFM"
      },
      "source": [
        "Your answer here:\n",
        "\n",
        "La risposta corretta è che lo scaling parameter segue la legge di proporzionalità **$a \\propto \\sqrt{T}$**, in quanto al crescere della temperatura, la velocità quadratica media delle particelle calcolata nel punto 3 cresce al crescere di T, e ciò è coerente con il teorema di equipartizione dell'energia, in cui si ha che:\n",
        "\n",
        "**$\\langle K \\rangle = \\frac{3}{2}nKT$**\n",
        "\n",
        "In particolare, si ha che:\n",
        "\n",
        "**$v_{q.mean}=\\sqrt{\\langle v^2 \\rangle} = \\sqrt{ \\frac{3nKT}{m} } $**\n",
        "\n",
        "Ed essendo che **$v_{q.mean} \\propto a$**, allora concludiamo che **$a \\propto \\sqrt{T}$**\n",
        "\n"
      ]
    },
    {
      "cell_type": "markdown",
      "metadata": {
        "id": "hGeeXYttXLO1"
      },
      "source": [
        "\n",
        "# 3) What is the mean of all three distributions. How does it compare to the most probable molecular speed? \n",
        "From the wikipedia page of the Chi distribution find the formula of the mean of the Chi distribution. The distribution we are using has a scale parameter *a* in addition to the number of degrees of freedom. The mean scales linearly with this parameter:\n",
        "\n",
        "$\\mu_{\\mathrm{MB}, k, a} = a \\cdot \\mu_{\\mathrm{chi}, k}$\n",
        "\n",
        "Using the scipy function ```sp.special.gamma()```  calculate the gamma $\\Gamma$ function,\n",
        "\n",
        "**calculate the mean of all three distributions. Compare it with the mean of the empirical distributions I generated in step 1. How does this mean compare to the most probable molecular speed.**"
      ]
    },
    {
      "cell_type": "code",
      "metadata": {
        "ExecuteTime": {
          "end_time": "2019-09-07T17:36:59.245480Z",
          "start_time": "2019-09-07T17:36:59.243338Z"
        },
        "id": "-8htAA4mRAVa"
      },
      "source": [
        "# your code here\n",
        "\n",
        "# prova con un modo stupido e brutale\n",
        "\n",
        "k = 3\n",
        "a1 = 0.2\n",
        "meanMB1 = a1*np.sqrt(2)*sp.special.gamma((k+1)/2)/sp.special.gamma(k/2)\n",
        "a2 = 0.6\n",
        "meanMB2 = a2*np.sqrt(2)*sp.special.gamma((k+1)/2)/sp.special.gamma(k/2)\n",
        "a3 = 1\n",
        "meanMB3 = a3*np.sqrt(2)*sp.special.gamma((k+1)/2)/sp.special.gamma(k/2)\n",
        "\n",
        "meanexpMB1=sp.stats.chi.rvs(df=3, scale=0.2, size=1000).mean()\n",
        "meanexpMB2=sp.stats.chi.rvs(df=3, scale=0.6, size=1000).mean()\n",
        "meanexpMB3=sp.stats.chi.rvs(df=3, scale=1.0, size=1000).mean()\n",
        "\n",
        "meanMB= [meanMB1, meanMB2, meanMB3]\n",
        "meanexpMB= [meanexpMB1, meanexpMB2, meanexpMB3]\n"
      ],
      "execution_count": 27,
      "outputs": []
    },
    {
      "cell_type": "code",
      "source": [
        "# modo più giusto mediante functions\n",
        "\n",
        "def meanMB(a):\n",
        "  \"\"\"\n",
        "  Utility function to calculate mean of chi square distribution\n",
        "  Input:\n",
        "  a -> (float or int) scaling parameters of MB distribution\n",
        "  k -> (int) number of degrees of freedom\n",
        "  Return:\n",
        "  mean of the distribution\n",
        "  \"\"\"\n",
        "  return 2*a*np.sqrt(2/np.pi)\n",
        "\n",
        "def chi_mean(a,k):\n",
        "  \"\"\"\n",
        "  Utility function to calculate mean of chi square distribution\n",
        "  Input:\n",
        "  a -> (float or int) scaling parameters of chi2 distribution\n",
        "  k -> (int) number of degrees of freedom\n",
        "  Return:\n",
        "  mean of the distribution\n",
        "  \"\"\"\n",
        "  return a*np.sqrt(2)*sp.special.gamma((k+1)/2)/sp.special.gamma(k/2)\n",
        "\n",
        "for a in [0.2, 0.6, 1.0]:\n",
        "  print(\"from theoretical formula for MB function: {0:.2f}\".format(meanMB(a)))\n",
        "  print(\"from theoretical formula for chi2 function: {0:.2f}\".format(chi_mean(a,3)))\n",
        "  print(\"from distrubution: {0:.2f}\".format(sp.stats.chi.rvs(df=3, scale=a, \n",
        "                                    size=1000, random_state=323).mean()))\n"
      ],
      "metadata": {
        "colab": {
          "base_uri": "https://localhost:8080/"
        },
        "id": "mWEAZaM9LR2x",
        "outputId": "544f52b4-1f5d-4a95-884e-f9578be761ec"
      },
      "execution_count": 45,
      "outputs": [
        {
          "output_type": "stream",
          "name": "stdout",
          "text": [
            "from theoretical formula for MB function: 0.32\n",
            "from theoretical formula for chi2 function: 0.32\n",
            "from distrubution: 0.32\n",
            "from theoretical formula for MB function: 0.96\n",
            "from theoretical formula for chi2 function: 0.96\n",
            "from distrubution: 0.96\n",
            "from theoretical formula for MB function: 1.60\n",
            "from theoretical formula for chi2 function: 1.60\n",
            "from distrubution: 1.60\n"
          ]
        }
      ]
    },
    {
      "cell_type": "code",
      "source": [
        "sp.special.gamma?"
      ],
      "metadata": {
        "id": "LCMSr-3pPY1Q"
      },
      "execution_count": 41,
      "outputs": []
    },
    {
      "cell_type": "markdown",
      "metadata": {
        "id": "r7oes80EQER-"
      },
      "source": [
        "This really only holds for perfect gasses, which means under 4 assumptions: \n",
        "- the diameter of the molecules is much smaller than the distance between them\n",
        "- the collisions between molecules conserve energy\n",
        "- the molecules do not interact between collisions and are not subject to any other forces (move at constant speed in a straight line)\n",
        "- the initial position and velocity are random."
      ]
    },
    {
      "cell_type": "markdown",
      "metadata": {
        "id": "3PJ9hjLzQjyA"
      },
      "source": [
        "# Extra Credit:\n",
        "\n",
        "can you create a python (2D) simulation where the molecules behave as describe and calculate their speed evolution from an initial speed that is gaussian distributed? (rather hard!!)\n"
      ]
    },
    {
      "cell_type": "code",
      "metadata": {
        "ExecuteTime": {
          "end_time": "2019-09-07T17:37:01.623460Z",
          "start_time": "2019-09-07T17:37:01.621218Z"
        },
        "id": "6LJU9GPVRO7B"
      },
      "source": [
        "# your code here"
      ],
      "execution_count": null,
      "outputs": []
    }
  ]
}