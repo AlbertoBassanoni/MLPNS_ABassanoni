{
  "nbformat": 4,
  "nbformat_minor": 0,
  "metadata": {
    "colab": {
      "provenance": [],
      "authorship_tag": "ABX9TyPnivVh5/HjeXbPZaHo3yXA",
      "include_colab_link": true
    },
    "kernelspec": {
      "name": "python3",
      "display_name": "Python 3"
    },
    "language_info": {
      "name": "python"
    }
  },
  "cells": [
    {
      "cell_type": "markdown",
      "metadata": {
        "id": "view-in-github",
        "colab_type": "text"
      },
      "source": [
        "<a href=\"https://colab.research.google.com/github/AlbertoBassanoni/MLPNS_ABassanoni/blob/main/my_neural_network.ipynb\" target=\"_parent\"><img src=\"https://colab.research.google.com/assets/colab-badge.svg\" alt=\"Open In Colab\"/></a>"
      ]
    },
    {
      "cell_type": "code",
      "execution_count": 1,
      "metadata": {
        "id": "HX6qve3gKPF8"
      },
      "outputs": [],
      "source": [
        "import numpy as np\n",
        "import pylab as pl"
      ]
    },
    {
      "cell_type": "code",
      "source": [
        "#creiamo un set di input features, un set piccolo di osservazioni\n",
        "#e di variabili, ad esempio 4 oggetti con 3 variabili ciascuna\n",
        "#ogni variabile è booleana\n",
        "\n",
        "X=np.array([[0,0,1], \n",
        "           [1,1,1], \n",
        "           [1,0,1], \n",
        "           [0,1,1]])\n",
        "X"
      ],
      "metadata": {
        "colab": {
          "base_uri": "https://localhost:8080/"
        },
        "id": "b7lJtULXKSrn",
        "outputId": "d7e5fd78-1592-4fe5-8a3d-aa866e2327ff"
      },
      "execution_count": 4,
      "outputs": [
        {
          "output_type": "execute_result",
          "data": {
            "text/plain": [
              "array([[0, 0, 1],\n",
              "       [1, 1, 1],\n",
              "       [1, 0, 1],\n",
              "       [0, 1, 1]])"
            ]
          },
          "metadata": {},
          "execution_count": 4
        }
      ]
    },
    {
      "cell_type": "code",
      "source": [
        "pl.imshow(X);\n",
        "pl.axis('off')\n",
        "#feature space binario molto semplice!"
      ],
      "metadata": {
        "colab": {
          "base_uri": "https://localhost:8080/",
          "height": 424
        },
        "id": "5_C8boe2K8J8",
        "outputId": "6b200c9b-0ac9-492a-d18b-60e62128d97d"
      },
      "execution_count": 5,
      "outputs": [
        {
          "output_type": "execute_result",
          "data": {
            "text/plain": [
              "(-0.5, 2.5, 3.5, -0.5)"
            ]
          },
          "metadata": {},
          "execution_count": 5
        },
        {
          "output_type": "display_data",
          "data": {
            "text/plain": [
              "<Figure size 640x480 with 1 Axes>"
            ],
            "image/png": "[encoded data removed]"
          },
          "metadata": {}
        }
      ]
    },
    {
      "cell_type": "code",
      "source": [
        "#creiamo l'output\n",
        "y=np.array([[0,1,1,0]]).T\n",
        "y"
      ],
      "metadata": {
        "colab": {
          "base_uri": "https://localhost:8080/"
        },
        "id": "Hx66owmnLFPB",
        "outputId": "a615f241-512f-43b6-bec7-b1bcd962ba5e"
      },
      "execution_count": 7,
      "outputs": [
        {
          "output_type": "execute_result",
          "data": {
            "text/plain": [
              "array([[0],\n",
              "       [1],\n",
              "       [1],\n",
              "       [0]])"
            ]
          },
          "metadata": {},
          "execution_count": 7
        }
      ]
    },
    {
      "cell_type": "code",
      "source": [
        "y.shape"
      ],
      "metadata": {
        "colab": {
          "base_uri": "https://localhost:8080/"
        },
        "id": "6hxInxZTLPBO",
        "outputId": "22b69808-6d09-4e17-9528-1e61ed5a2910"
      },
      "execution_count": 8,
      "outputs": [
        {
          "output_type": "execute_result",
          "data": {
            "text/plain": [
              "(4, 1)"
            ]
          },
          "metadata": {},
          "execution_count": 8
        }
      ]
    },
    {
      "cell_type": "code",
      "source": [
        "#l'idea è di predirre l'output sulla base del network\n",
        "print(\"input\\n\", X)\n",
        "print(\"output\\n\", y)"
      ],
      "metadata": {
        "colab": {
          "base_uri": "https://localhost:8080/"
        },
        "id": "-us8VcWVLQGg",
        "outputId": "828ae476-8f67-4c2a-8117-510f00ba50ae"
      },
      "execution_count": 10,
      "outputs": [
        {
          "output_type": "stream",
          "name": "stdout",
          "text": [
            "input\n",
            " [[0 0 1]\n",
            " [1 1 1]\n",
            " [1 0 1]\n",
            " [0 1 1]]\n",
            "output\n",
            " [[0]\n",
            " [1]\n",
            " [1]\n",
            " [0]]\n"
          ]
        }
      ]
    },
    {
      "cell_type": "markdown",
      "source": [
        "#1 Layer Neural Network\n",
        "\n",
        "4 osservazioni\n",
        "3 neuroni\n",
        "1 layer\n",
        "\n",
        "il modello di riferimento è il perceptron, dobbiamo quindi definire i pesi **$w_i$**, il bias **$b$** e la activation function **$f$**"
      ],
      "metadata": {
        "id": "ly3jiUHQLkS2"
      }
    },
    {
      "cell_type": "code",
      "source": [
        "#costruiamo come activation function la sigmoid\n",
        "def sigmoid(x):\n",
        "  return 1. / (1. +np.exp(-x))"
      ],
      "metadata": {
        "id": "9gLuFmlELpE4"
      },
      "execution_count": 11,
      "outputs": []
    },
    {
      "cell_type": "code",
      "source": [
        "#test per vedere se la sigmoid è fatta bene\n",
        "pl.plot(sigmoid(np.arange(-10,10, 0.1)))"
      ],
      "metadata": {
        "colab": {
          "base_uri": "https://localhost:8080/",
          "height": 448
        },
        "id": "FbyxCCUwMNcX",
        "outputId": "fc3d48a7-fab7-482d-a9fd-bd5739e3d6be"
      },
      "execution_count": 12,
      "outputs": [
        {
          "output_type": "execute_result",
          "data": {
            "text/plain": [
              "[<matplotlib.lines.Line2D at 0x7fd86813d7f0>]"
            ]
          },
          "metadata": {},
          "execution_count": 12
        },
        {
          "output_type": "display_data",
          "data": {
            "text/plain": [
              "<Figure size 640x480 with 1 Axes>"
            ],
            "image/png": "[encoded data removed]"
          },
          "metadata": {}
        }
      ]
    },
    {
      "cell_type": "code",
      "source": [
        "#costruiamo la loss function\n",
        "#costruiamo in particolare un vettore distanza tra\n",
        "#valori reali e valori predetti\n",
        "def loss(prediction, target):\n",
        "  return target - prediction"
      ],
      "metadata": {
        "id": "nD4S6XEoMe4g"
      },
      "execution_count": 13,
      "outputs": []
    },
    {
      "cell_type": "code",
      "source": [
        "#definiamo la derivata della sigmoid per poter fare la gradient descent\n",
        "#si fa su wolphram in maniera molto facile\n",
        "def dsigmoid(x):\n",
        "  return sigmoid(x)* (1. -sigmoid(x))"
      ],
      "metadata": {
        "id": "fA2W0yc1M9g-"
      },
      "execution_count": 20,
      "outputs": []
    },
    {
      "cell_type": "markdown",
      "source": [
        "Iniziamo il neural network vero e proprio! L'architettura si basa sullo stochastic gradient descent, e si deve fissare un criterio di convergenza. E' bene stabilire il numero di iterazioni massime da fare per un neural network."
      ],
      "metadata": {
        "id": "pl7ZvURDM11W"
      }
    },
    {
      "cell_type": "code",
      "source": [
        "#Assegno un valore iniziale ai miei weights e al mio bias, e diamo uno\n",
        "#starting point random\n",
        "#mettiamo l'hyperparameter del numero max di iterazioni\n",
        "training = 6000"
      ],
      "metadata": {
        "id": "_7-37s0uM4Sx"
      },
      "execution_count": 15,
      "outputs": []
    },
    {
      "cell_type": "code",
      "source": [
        "#layer of synopses /neurons che sia 4 x 3\n",
        "# 4 x 3 dot 3 x 1\n",
        "np.random.seed(302)\n",
        "\n",
        "#con la synapsis iniziale standardizzo i pesi della mia\n",
        "#synapsis in una funzione tra -1 e 1\n",
        "syn0 = 2 * np.random.random((3, 1)) - 1\n",
        "print(syn0.shape)\n",
        "print(syn0)\n",
        "\n",
        "loss_output = []\n",
        "\n",
        "#inizio il mio training\n",
        "#assumo che il bias b=0\n",
        "\n",
        "for iter in range(training):\n",
        "  inputLayer = X\n",
        "  \n",
        "  #questa è la forward propagation\n",
        "  #linear regression\n",
        "  l1 = np.dot(inputLayer, syn0)\n",
        "  #activations\n",
        "  output = sigmoid(l1)\n",
        "  #calculate error\n",
        "  output_error = loss(output, y)\n",
        "  #funzione con cui costruisco una loss function cumulativa\n",
        "  loss_output.append(np.abs(output_error).sum())\n",
        "  #definiamo il gradient descent\n",
        "  #calculate correction\n",
        "  #questa operazione si chiama backpropagation\n",
        "  output_delta = output_error * dsigmoid(output)\n",
        "  # += significa correggo\n",
        "  #apply correction to weights\n",
        "  syn0 += np.dot(inputLayer.T, output_delta)\n",
        "\n",
        "print(\"output after training\\n\", output)\n",
        "print(\"output target\\n\", y)"
      ],
      "metadata": {
        "colab": {
          "base_uri": "https://localhost:8080/"
        },
        "id": "OKMPggHaOunA",
        "outputId": "9f9e286e-4ccd-4862-daa9-51baa5e2bd0a"
      },
      "execution_count": 29,
      "outputs": [
        {
          "output_type": "stream",
          "name": "stdout",
          "text": [
            "(3, 1)\n",
            "[[-0.80017145]\n",
            " [-0.16595905]\n",
            " [-0.64736336]]\n",
            "output after training\n",
            " [[1.20559228e-03]\n",
            " [9.98978809e-01]\n",
            " [9.99320255e-01]\n",
            " [8.02539175e-04]]\n",
            "output target\n",
            " [[0]\n",
            " [1]\n",
            " [1]\n",
            " [0]]\n"
          ]
        }
      ]
    },
    {
      "cell_type": "code",
      "source": [
        "pl.plot(loss_output, label=\"output\")\n",
        "pl.legend()\n",
        "pl.xlabel(\"iteration (epoch)\")\n",
        "pl.ylabel(\"global loss\")"
      ],
      "metadata": {
        "colab": {
          "base_uri": "https://localhost:8080/",
          "height": 467
        },
        "id": "JHB64CUlQncn",
        "outputId": "7f029292-5449-4625-e422-040fb6e43211"
      },
      "execution_count": 30,
      "outputs": [
        {
          "output_type": "execute_result",
          "data": {
            "text/plain": [
              "Text(0, 0.5, 'global loss')"
            ]
          },
          "metadata": {},
          "execution_count": 30
        },
        {
          "output_type": "display_data",
          "data": {
            "text/plain": [
              "<Figure size 640x480 with 1 Axes>"
            ],
            "image/png": "[encoded data removed]"
          },
          "metadata": {}
        }
      ]
    },
    {
      "cell_type": "markdown",
      "source": [
        "# 2 Layer Neural Network:\n",
        "\n",
        "Abbiamo sempre la struttura di prima, ovverosia prendiamo come activation function la sigmoid già definita e come numero massimo di iterazioni 6000. Ripartiamo dall'architettura, vedendo di definire il livello 2\n",
        "\n",
        "Ho due livelli:\n",
        "\n",
        "INPUT\n",
        "\n",
        "LAYER 1 -> 3 NEURONS\n",
        "\n",
        "LAYER 2 -> 5 NEURONS\n",
        "\n",
        "OUTPUT"
      ],
      "metadata": {
        "id": "Uz9DdFOvZlRR"
      }
    },
    {
      "cell_type": "code",
      "source": [
        "np.random.seed(302)\n",
        "\n",
        "# 4 x 3 dot 3 x 5 dot 5 x 1\n",
        "\n",
        "syn0 = 2 * np.random.random((3,5)) - 1\n",
        "syn1 = 2 * np.random.random((5,1)) - 1\n",
        "\n",
        "loss_output = []\n",
        "loss_hidden = []\n",
        "\n",
        "#inizio il mio training\n",
        "#assumo che il bias b=0\n",
        "\n",
        "for iter in range(training):\n",
        "  inputLayer = X\n",
        "  \n",
        "  l1 = np.dot(inputLayer, syn0)\n",
        "  hidden = sigmoid(l1)\n",
        "  hidden_error = loss(hidden, y)\n",
        "  loss_hidden.append(np.abs(hidden_error).sum())\n",
        "\n",
        "  l2 = np.dot(hidden, syn1)\n",
        "  #calculate error\n",
        "  output = sigmoid(l2)\n",
        "  output_error = loss(output, y)\n",
        "\n",
        "  loss_output.append(np.abs(output_error).sum())\n",
        "  \n",
        "  hidden_delta = hidden_error * dsigmoid(hidden)\n",
        "  output_delta = output_error * dsigmoid(output)\n",
        "  # += significa correggo\n",
        "  #apply correction to weights\n",
        "  syn0 += np.dot(inputLayer.T, hidden_delta)\n",
        "  syn1 += np.dot(output.T, output_delta)\n",
        "\n",
        "\n",
        "print(\"output after training\\n\", output)\n",
        "print(\"output target\\n\", y)"
      ],
      "metadata": {
        "colab": {
          "base_uri": "https://localhost:8080/"
        },
        "id": "3i4t0M9HZ4SK",
        "outputId": "bdd56908-f03c-4b98-80de-96eb0e533c94"
      },
      "execution_count": 57,
      "outputs": [
        {
          "output_type": "stream",
          "name": "stdout",
          "text": [
            "output after training\n",
            " [[0.50000024]\n",
            " [0.4999983 ]\n",
            " [0.49999851]\n",
            " [0.49999997]]\n",
            "output target\n",
            " [[0]\n",
            " [1]\n",
            " [1]\n",
            " [0]]\n"
          ]
        }
      ]
    },
    {
      "cell_type": "code",
      "source": [
        "pl.plot(loss_output, label=\"output\")\n",
        "pl.plot(loss_hidden, label=\"hidden\")\n",
        "pl.legend()\n",
        "pl.xlabel(\"iteration (epoch)\")\n",
        "pl.ylabel(\"global loss\")"
      ],
      "metadata": {
        "colab": {
          "base_uri": "https://localhost:8080/",
          "height": 473
        },
        "id": "ra2iC1qhenww",
        "outputId": "f1a55f91-1a43-43a6-fb23-94ba9a274613"
      },
      "execution_count": 58,
      "outputs": [
        {
          "output_type": "execute_result",
          "data": {
            "text/plain": [
              "Text(0, 0.5, 'global loss')"
            ]
          },
          "metadata": {},
          "execution_count": 58
        },
        {
          "output_type": "display_data",
          "data": {
            "text/plain": [
              "<Figure size 640x480 with 1 Axes>"
            ],
            "image/png": "[encoded data removed]"
          },
          "metadata": {}
        }
      ]
    }
  ]
}