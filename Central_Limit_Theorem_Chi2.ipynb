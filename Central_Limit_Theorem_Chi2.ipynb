{
  "nbformat": 4,
  "nbformat_minor": 0,
  "metadata": {
    "colab": {
      "provenance": [],
      "authorship_tag": "ABX9TyMtzhreSOPXCy7LdCebBOar",
      "include_colab_link": true
    },
    "kernelspec": {
      "name": "python3",
      "display_name": "Python 3"
    },
    "language_info": {
      "name": "python"
    }
  },
  "cells": [
    {
      "cell_type": "markdown",
      "metadata": {
        "id": "view-in-github",
        "colab_type": "text"
      },
      "source": [
        "<a href=\"https://colab.research.google.com/github/AlbertoBassanoni/MLPNS_ABassanoni/blob/main/Central_Limit_Theorem_Chi2.ipynb\" target=\"_parent\"><img src=\"https://colab.research.google.com/assets/colab-badge.svg\" alt=\"Open In Colab\"/></a>"
      ]
    },
    {
      "cell_type": "markdown",
      "source": [
        "# Homework 2: Central Limit Theorem\n",
        "\n",
        "Facciamo un'applicazione del central limit theorem per la chi2 distribution."
      ],
      "metadata": {
        "id": "LKm2dV3FU2Fe"
      }
    },
    {
      "cell_type": "code",
      "execution_count": 1,
      "metadata": {
        "colab": {
          "base_uri": "https://localhost:8080/"
        },
        "id": "LUChTzRyUTI1",
        "outputId": "3a6e0509-6baf-4afc-e5db-800326d9710c"
      },
      "outputs": [
        {
          "output_type": "stream",
          "name": "stdout",
          "text": [
            "Populating the interactive namespace from numpy and matplotlib\n"
          ]
        }
      ],
      "source": [
        "# Garantisce la compatibilità di alcune funzioni tra Python 2 e Python 3\n",
        "from __future__ import print_function, division\n",
        "\n",
        "# importazione dei pacchetti compilati già visti in Python Bootcamp\n",
        "import numpy as np\n",
        "import scipy as sp\n",
        "from scipy import stats\n",
        "\n",
        "# questo è per l'extra credit\n",
        "from scipy.optimize import curve_fit, minimize\n",
        "\n",
        "# pylab serve per i plotting\n",
        "import pylab as pl\n",
        "%pylab inline\n",
        "import seaborn\n",
        "seaborn.set_style(\"darkgrid\")"
      ]
    },
    {
      "cell_type": "code",
      "source": [
        "#setto il seed per avere gli stessi risultati nella generazione di numeri random\n",
        "np.random.seed(456)\n",
        "\n",
        "#settiamo una media che voglio io\n",
        "mymean=100"
      ],
      "metadata": {
        "id": "SyHvl7CNVGtv"
      },
      "execution_count": 2,
      "outputs": []
    },
    {
      "cell_type": "code",
      "source": [
        "#per la chi square distribution il degree of freedom si ricava dalla media essendo:\n",
        "#mean_chi2= k (vedi Wikipedia)\n",
        "df = mymean \n",
        "\n",
        "#per una binomial ad esempio:\n",
        "#mean_binomial= n*p\n",
        "#p = 0.5 \n",
        "#n = mymean/p\n",
        "\n",
        "#creo un dizionario\n",
        "\n",
        "mydistribution = {}\n",
        "\n",
        "# esempio di distribuzione\n",
        "\n",
        "pl.hist(np.random.chisquare(mymean, size=500));\n",
        "pl.ylabel(\"N\")\n",
        "pl.xlabel(\"x\")\n"
      ],
      "metadata": {
        "colab": {
          "base_uri": "https://localhost:8080/",
          "height": 296
        },
        "id": "9HxpzOJrVlDO",
        "outputId": "417daf57-73ab-4bfe-a0f5-89aad1e1fe11"
      },
      "execution_count": 3,
      "outputs": [
        {
          "output_type": "execute_result",
          "data": {
            "text/plain": [
              "Text(0.5, 0, 'x')"
            ]
          },
          "metadata": {},
          "execution_count": 3
        },
        {
          "output_type": "display_data",
          "data": {
            "text/plain": [
              "<Figure size 432x288 with 1 Axes>"
            ],
            "image/png": "[encoded data removed]"
          },
          "metadata": {}
        }
      ]
    },
    {
      "cell_type": "code",
      "source": [
        "mysize = (np.random.rand(100))\n",
        "mysize"
      ],
      "metadata": {
        "colab": {
          "base_uri": "https://localhost:8080/"
        },
        "id": "mdtbsbvpXmL4",
        "outputId": "7fdb088f-4615-479d-cc33-0853ecff9ddf"
      },
      "execution_count": 4,
      "outputs": [
        {
          "output_type": "execute_result",
          "data": {
            "text/plain": [
              "array([0.49849045, 0.61100301, 0.28164421, 0.5459032 , 0.11408284,\n",
              "       0.65735388, 0.41193067, 0.90436033, 0.57099108, 0.67706228,\n",
              "       0.38562863, 0.0971174 , 0.75055404, 0.41110519, 0.84403549,\n",
              "       0.98540984, 0.01568833, 0.84868674, 0.50979263, 0.94763371,\n",
              "       0.69222357, 0.2000041 , 0.37141067, 0.09148377, 0.12666006,\n",
              "       0.68440565, 0.69145626, 0.87927294, 0.01629363, 0.59516122,\n",
              "       0.49024117, 0.18997054, 0.12537943, 0.92460873, 0.51346378,\n",
              "       0.23019547, 0.32239754, 0.79530249, 0.78147407, 0.97866603,\n",
              "       0.10222761, 0.42617224, 0.22147331, 0.01600411, 0.66521301,\n",
              "       0.84019615, 0.50286594, 0.69118933, 0.94683586, 0.59233211,\n",
              "       0.4135054 , 0.33844734, 0.44972429, 0.40498382, 0.57128487,\n",
              "       0.33600872, 0.77002579, 0.38566399, 0.72808339, 0.73522364,\n",
              "       0.60129877, 0.11369917, 0.97424827, 0.83130108, 0.87110043,\n",
              "       0.9465412 , 0.41222389, 0.12725016, 0.67183702, 0.77463917,\n",
              "       0.67212095, 0.86998404, 0.23523771, 0.40151812, 0.80348586,\n",
              "       0.877812  , 0.5314785 , 0.20481966, 0.89120329, 0.23479051,\n",
              "       0.60871097, 0.78388161, 0.41367279, 0.96087376, 0.27637975,\n",
              "       0.29311159, 0.90014653, 0.36294852, 0.47572624, 0.11447106,\n",
              "       0.81139462, 0.0885173 , 0.40598304, 0.9285613 , 0.65247376,\n",
              "       0.76812745, 0.93419663, 0.97433838, 0.92804508, 0.81484794])"
            ]
          },
          "metadata": {},
          "execution_count": 4
        }
      ]
    },
    {
      "cell_type": "code",
      "source": [
        "mysize = (np.random.rand(100))*2000\n",
        "mysize"
      ],
      "metadata": {
        "colab": {
          "base_uri": "https://localhost:8080/"
        },
        "id": "vOQqQ-9SX5RV",
        "outputId": "f8df76dc-5d5e-4706-881e-49c3030bb344"
      },
      "execution_count": 5,
      "outputs": [
        {
          "output_type": "execute_result",
          "data": {
            "text/plain": [
              "array([9.91418121e+02, 1.79063085e+03, 1.29907097e+00, 8.31494739e+01,\n",
              "       1.89058970e+03, 1.16532657e+03, 1.31549160e+03, 7.14104815e+02,\n",
              "       6.36998942e+02, 1.17500779e+03, 1.53280903e+03, 1.25894644e+03,\n",
              "       1.02198047e+03, 2.17755514e+02, 3.95651119e+02, 1.66210067e+03,\n",
              "       1.51375455e+03, 2.67376903e+02, 1.25063068e+03, 1.42605248e+03,\n",
              "       9.08117636e+02, 1.51432448e+03, 1.38899913e+03, 3.82418508e+02,\n",
              "       1.95245470e+03, 1.62212567e+03, 7.57230756e+02, 5.08081980e+02,\n",
              "       1.75766320e+03, 1.54523835e+01, 4.02178973e+02, 9.42463442e+01,\n",
              "       1.94060902e+03, 1.22546103e+03, 6.29029061e+02, 5.85427525e+02,\n",
              "       1.60838016e+03, 3.07945281e+02, 4.18918275e+02, 1.14680461e+03,\n",
              "       1.50676707e+03, 3.49282918e+01, 1.40227614e+03, 1.53098447e+03,\n",
              "       1.07749378e+03, 9.49818416e+02, 1.68604722e+03, 6.42243146e+02,\n",
              "       2.31871635e+02, 1.89152224e+03, 1.02632154e+03, 1.06549785e+02,\n",
              "       1.60352063e+03, 1.64412308e+03, 9.88085146e+02, 1.80917912e+03,\n",
              "       1.57120958e+03, 1.45998562e+03, 1.74835614e+03, 1.43491699e+03,\n",
              "       1.47161525e+03, 1.05755643e+02, 5.63492748e+02, 1.45152361e+03,\n",
              "       1.80638993e+03, 6.26483667e+02, 3.69248656e+02, 9.23211702e+02,\n",
              "       1.70290607e+03, 2.96860949e+01, 9.31691207e+02, 5.49931156e+01,\n",
              "       1.79921756e+03, 1.75271675e+03, 3.53000657e+02, 1.25185838e+03,\n",
              "       1.52424039e+03, 1.63926047e+03, 1.90360196e+03, 1.50931095e+03,\n",
              "       1.49635798e+03, 1.71442569e+03, 1.78299645e+03, 9.85352313e+01,\n",
              "       7.31562099e+02, 1.31312823e+03, 8.46742050e+02, 2.31714653e+02,\n",
              "       1.91498822e+02, 1.81688198e+02, 8.63653135e+02, 3.67206722e+02,\n",
              "       1.76001440e+03, 1.65364270e+03, 1.15293879e+03, 1.23947523e+03,\n",
              "       1.14797529e+03, 6.62964985e+02, 1.86439062e+02, 1.26438097e+03])"
            ]
          },
          "metadata": {},
          "execution_count": 5
        }
      ]
    },
    {
      "cell_type": "code",
      "source": [
        "#ho generato 100 samples per la chi2 avente size compresa tra 10 e 2000\n",
        "\n",
        "mysize = (np.random.rand(100) *2000).astype(int)\n",
        "mysize[mysize < 10]= 10\n",
        "pl.plot(mysize, '.')"
      ],
      "metadata": {
        "colab": {
          "base_uri": "https://localhost:8080/",
          "height": 282
        },
        "id": "zAF16nJjYKtk",
        "outputId": "7fe1cffe-17d5-4205-dc71-ea822af698a2"
      },
      "execution_count": 13,
      "outputs": [
        {
          "output_type": "execute_result",
          "data": {
            "text/plain": [
              "[<matplotlib.lines.Line2D at 0x7ff24bf2aee0>]"
            ]
          },
          "metadata": {},
          "execution_count": 13
        },
        {
          "output_type": "display_data",
          "data": {
            "text/plain": [
              "<Figure size 432x288 with 1 Axes>"
            ],
            "image/png": "[encoded data removed]"
          },
          "metadata": {}
        }
      ]
    },
    {
      "cell_type": "code",
      "source": [
        "#mysize contiene la size della distribuzione dei miei samples\n",
        "\n",
        "for s in mysize:\n",
        "  #nel mio dizionario introduco un keyword s e un value s con gli\n",
        "  #array nella distribuzione\n",
        "  #nel dizionario posso mettere oggetti di diversa dimensione\n",
        "  mydistribution[s] = np.random.chisquare(mymean, size=s)\n",
        "\n",
        "#creo la figura vuota\n",
        "ax = pl.figure().add_subplot(111)\n",
        "\n",
        "for d in mydistribution.keys():\n",
        "  #plotto le 100 mean delle mie distribuzioni casuali con size casuale \n",
        "  ax.plot(d, mydistribution[d].mean(), '.')\n",
        "ax.plot(pl.xlim(), [100, 100], 'k', alpha=0.5)\n",
        "ax.set_xlabel(\"sample size\")\n",
        "ax.set_ylabel(\"sample mean\")"
      ],
      "metadata": {
        "colab": {
          "base_uri": "https://localhost:8080/",
          "height": 296
        },
        "id": "qMBilz97ZJOF",
        "outputId": "a262a11c-c1b8-4a8d-85a3-e5ba01bffdf6"
      },
      "execution_count": 14,
      "outputs": [
        {
          "output_type": "execute_result",
          "data": {
            "text/plain": [
              "Text(0, 0.5, 'sample mean')"
            ]
          },
          "metadata": {},
          "execution_count": 14
        },
        {
          "output_type": "display_data",
          "data": {
            "text/plain": [
              "<Figure size 432x288 with 1 Axes>"
            ],
            "image/png": "[encoded data removed]"
          },
          "metadata": {}
        }
      ]
    }
  ]
}