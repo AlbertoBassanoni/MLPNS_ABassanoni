{
  "nbformat": 4,
  "nbformat_minor": 0,
  "metadata": {
    "colab": {
      "provenance": [],
      "authorship_tag": "ABX9TyMlYz/fG/QIsTymIKwo/LSW",
      "include_colab_link": true
    },
    "kernelspec": {
      "name": "python3",
      "display_name": "Python 3"
    },
    "language_info": {
      "name": "python"
    }
  },
  "cells": [
    {
      "cell_type": "markdown",
      "metadata": {
        "id": "view-in-github",
        "colab_type": "text"
      },
      "source": [
        "<a href=\"https://colab.research.google.com/github/AlbertoBassanoni/MLPNS_ABassanoni/blob/main/MLPNS23_Lesson_27_4.ipynb\" target=\"_parent\"><img src=\"https://colab.research.google.com/assets/colab-badge.svg\" alt=\"Open In Colab\"/></a>"
      ]
    },
    {
      "cell_type": "markdown",
      "source": [
        "# Convolutional Neural Network:\n",
        "\n",
        "I CNN sono utili per lavorare con immagini. Ad esempio, il deepdream è un convolutional neural network che fa uso dell'algoritmo di Inception. Ricerco con un'operazione di dot product la similarità di pezzi delle immagini con delle forme predefinite. \n",
        "\n",
        "## Convolutional Layer:\n",
        "\n",
        "CONVOLUZIONE: E' un'operazione matematica che combina due funzioni **$f(x)$** e **$g(x)$** che mi dà la somma del prodotto delle due funzioni, indicato col simbolo di convoluzione **$f(x) * g(x) $**, che nel caso di convoluzioni discrete è tipicamente un dot product.\n",
        "\n",
        "##Re-LU Layer:\n",
        "\n",
        "Ho a che fare con un input layer e un convolutional layer, e la feature map è il risultato dell'operazione di convoluzione tra input e convolutional layer. Alla feature map passo poi una activation function, tipicamente una ReLu, ossia una funzione che rimpiazza i valori negativi con zero, cioé **$ReLU(x)= max(0,x)$**.\n",
        "\n",
        "Le feature map che abbiamo fatto nell'esercizio deepdream sono esattamente quelle immagini bizzarre che abbiamo visto, che sono il risultato di convoluzioni ripetute in cui si esaltano tramite colori o forme i risultati di similarità. \n",
        "\n",
        "## Max - Pool Layer:\n",
        "\n",
        "Il MaxPooling riduce la size dell'immagine e generalizza il risultato prendendone la massima parte. E' fatto più che altro per rimuovere il rumore. Ad esempio, pensiamo all'utilizzo dei CNN per il digit recognizing. Ci sono numerosi modi di scrivere una lettera, e questo Max-Pooling generalizza il risultato che ottengo pixel per pixel, riducendo la dimensione del feature map e di conseguenza lo scatter e l'errore. Il Max-Pool non va messo dopo un convolutional layer, altrimenti ridurrei troppo la dimensione dell'immagine. \n",
        "\n",
        "## Final Layer:\n",
        "\n",
        "Il final layer è sempre fully connected, e non ha senso eliminare informazione sull'ultimo layer, lo può essere eliminare alcuni links negli hidden layers qualora l'informazione sia ridondante. "
      ],
      "metadata": {
        "id": "VoXSmUfZ9ZAj"
      }
    },
    {
      "cell_type": "markdown",
      "source": [
        "# Training a Deep Neural Network:\n",
        "\n",
        "Nel modello precompilato di keras, l'operazione model.fit fa l'operazione di backpropagation. Ora faremo un esercizio di costruzione di un CNN per individuare molecole in immagini microscopiche. Nelle immagini date in input vogliamo riconoscere le molecole con una data forma per non confonderle con altre cose nei dati. Creeremo un CNN con queste opportune caratteristiche."
      ],
      "metadata": {
        "id": "94bSdo2lHuoe"
      }
    },
    {
      "cell_type": "markdown",
      "source": [],
      "metadata": {
        "id": "Mh83ROx3KgyP"
      }
    }
  ]
}
