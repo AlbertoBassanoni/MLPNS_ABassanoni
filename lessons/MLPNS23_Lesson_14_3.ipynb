{
  "nbformat": 4,
  "nbformat_minor": 0,
  "metadata": {
    "colab": {
      "provenance": [],
      "authorship_tag": "ABX9TyN9tr2nOACrK9z09Oinvt3X",
      "include_colab_link": true
    },
    "kernelspec": {
      "name": "python3",
      "display_name": "Python 3"
    },
    "language_info": {
      "name": "python"
    }
  },
  "cells": [
    {
      "cell_type": "markdown",
      "metadata": {
        "id": "view-in-github",
        "colab_type": "text"
      },
      "source": [
        "<a href=\"https://colab.research.google.com/github/AlbertoBassanoni/MLPNS_ABassanoni/blob/main/lessons/MLPNS23_Lesson_14_3.ipynb\" target=\"_parent\"><img src=\"https://colab.research.google.com/assets/colab-badge.svg\" alt=\"Open In Colab\"/></a>"
      ]
    },
    {
      "cell_type": "markdown",
      "source": [
        "# Riproducibilità e igiene del codice\n",
        "\n",
        "Tutti i numeri in un esercizio di data analysis devono essere riprodotti esattamente usando il codice e i data row forniti da chi li ha analizzati.\n",
        "\n",
        "\n",
        "Il concetto è abbastanza semplice se si lavora con pochi dati, e ovviamente diventa più complesso se i raw data sono dei big data. \n",
        "\n",
        "\n",
        "Tutto il materiale che produce le figure che vanno inserite in un paper va condiviso, in maniera tale che i ricercatori possano usare quel materiale per riprodurre i risultati trovati e rielaborarli.\n",
        "\n",
        "\n",
        "Spesso per fare una simulazione si utilizza una simulazione MonteCarlo o una Markov Chain generiamo dei valori random. I numeri random prodotti dai package numbers in Python non sono generati totalmente casuale, visto che se faccio un istogramma dei valori che ottengo possono avere una distribuzione di probabilità che li assegna. c'è una funzione detta:\n",
        "\n",
        "np.random.seed(125)\n",
        "\n",
        "125 indica la seguenza che io utilizzerò. Nessuno è corretto o sbagliato a priori, ed è una condizione fondamentale per la riproducibilità. Serve per fissare lo stesso codice random. \n",
        "\n",
        "Per precauzione, ogni volta fai ripartire con \"Restart and run all\"\n",
        "\n",
        "Ci vogliono gli axis labels! Se si fa una hitmap la colobar deve avere una label, e tutte le dimensioni del plot devono avere una label, e tutti i punti devono avere una caption, e bisogna dire \"questo plot mostra...\", \"quel dato dice...\"\n",
        "\n",
        "Per tutta la comunità scientifica è molto semplice ora dare riproducibilità, basta sbatterlo su github ed allegarlo ad un articolo."
      ],
      "metadata": {
        "id": "dSfbixdFyw8W"
      }
    },
    {
      "cell_type": "markdown",
      "source": [
        "# Introduzione alla probabilità\n",
        "\n",
        "Parliamo di una interpretazione frequentista di probabilità, in cui la probabilità che ciò avvenga è la frazione delle volte in cui qualcosa avvenga. E' soggetta ad errori, perché posso avere delle fluttuazioni dovuto al numero limitato di volte in cui faccio l'esperimento. Dal punto di vista frequentista, ripetendo l'esperimento più volte, avrò una corrispondenza tra probabilità e frequenza che un evento avvenga vanno a convergere (per la legge dei grandi numeri).\n",
        "\n",
        "L'interpretazione bayesiana invece si basa sull'idea che a priori io posso conoscere il valore della probabilità di un dato evento prima di fare l'esperimento. Si ha che:\n",
        "\n",
        "0 <= P(A) <= 1\n",
        "\n",
        "P(A)+P(Ac)=1\n",
        "\n",
        "se gli eventi sono disgiunti, ossia P(A) int P(B) = 0 allora:\n",
        "\n",
        "P(A and B) = P(A)*P(B)\n",
        "\n",
        "P(A or B) = P(A)+P(B)\n",
        "\n",
        "Per eventi dipendenti, ossia eventi in cui P(A) int P(B) =\\ 0 allora si ha che:\n",
        "\n",
        "P(A|B)= P(A int B)/P(B)\n",
        "\n",
        "\n",
        "\n"
      ],
      "metadata": {
        "id": "bqP1YyJfz6ch"
      }
    },
    {
      "cell_type": "markdown",
      "source": [
        "# Introduzione alla statistica\n",
        "\n",
        "E' una disciplina che ci permette di generalizzare un fenomeno da un numero limitato a un evento collettivo sulla popolazione. Diamo una tassonomia:\n",
        "\n",
        "DISTRIBUZIONE: una formula, o modello\n",
        "\n",
        "POPOLAZIONE: tutti gli elementi di una famiglia\n",
        "\n",
        "SAMPLE: campione appartenente alla popolazione su cui si applica il modello. \n",
        "\n",
        "In fisica un esempio paradigmatico di larga applicazione di questa disciplina è la meccanica statistica, in cui si cerca di inferire sulle proprietà macroscopiche di un sistema a partire dalle proprietà microscopiche. "
      ],
      "metadata": {
        "id": "t3tmBgTt5-kU"
      }
    },
    {
      "cell_type": "markdown",
      "source": [
        "# Statistica descrittiva\n",
        "\n",
        "Ricordiamo il momento generatore di una distribuzione \n",
        "\n",
        "\\int_{-infty}^{+infty}{(x-c)^n f(x) dx}\n",
        "\n",
        "e vediamo i vari momenti:\n",
        "\n",
        "per n=1 -> ho la media. Attenzione, distinguiamo all'interno di una distribuzione gli altri indici centrali sono la moda e la mediana.\n",
        "\n",
        "per n=2 -> ho la varianza. Indice di dispersione, e spesso si usa la standard deviation che indica la larghezza media dalla media. In una distribuzione gaussiana spesso si contano le parti della distribuzione in termini di standard deviation, e posso connetterla alla probabilità con il \"no hypothesis conjecture testing\", cioè vedere se il nostro esperimento verifica P( X > 3(std. dev)=\\0  (3 std. dev = 97.3 % area della curva gaussiana). La scelta del numero di std. dev dipende dal campo di ricerca. Ad esempio, in medicina 2 std. dev va bene, in fisica da 3 std. dev in su, in particle physics si usano 5 std. dev. Spesso si parla anche di range interquantile, associato alla mediana, e guardano ad una percentuale di valori in una certa area, e si usa spesso con delle distribuzioni asimmetriche."
      ],
      "metadata": {
        "id": "-JSDWzNF7Hq7"
      }
    },
    {
      "cell_type": "markdown",
      "source": [
        "# Distribuzioni di probabilità:\n",
        "\n",
        "## distribuzioni binomiali:\n",
        "\n",
        "Distribuzioni binomiali sono molto importanti, e su Wikipedia ho fondamentalmente tutto quello che mi serve. Spesso ho il:\n",
        "\n",
        "Plot della densità di probabilità (probability mass function)\n",
        "\n",
        "Plot della distribuzione cumulativa, ossia la somma o l'integrale della distribuzione di probabilità. La cumulativa è utile nel mio test statistico con le standard deviation.\n",
        "\n",
        "parametri, come ad esempio n il numero di trials, p la probabilità di successo per ogni trial\n",
        "\n",
        "supporto, ossia il numero di successi\n",
        "\n",
        "pmf, probability mass function, e quindi espressione della funzione.\n",
        "\n",
        "cdf, cumulative distribution function, e quindi espressione della cumulativa.\n",
        "\n",
        "median, mode, mean and variance\n",
        "\n",
        "skewness, cioè indice di asimmetria, e curtosi.\n",
        "\n",
        "## distribuzione di Poisson\n",
        "\n",
        "E' una funzione di distribuzione di probabilità per lo shut noise o il count noise, e si usa per ottenere l'innate noise in un natural steady state process (come i flussi stellari, le rain drops...). La funzione ha:\n",
        "\n",
        "parametro lambda > 0\n",
        "\n",
        "supporto k intero\n",
        "\n",
        "pmf con lambda^k e^ - lambda / k!\n",
        "\n",
        "## distribuzione Gaussiana\n",
        "\n",
        "Distribuzione gaussiana, la regina delle distribuzioni, simmetrica rispetto alla media mu, amichevole e bellina. \n",
        "\n",
        "Ha pdf facile, e ben noto\n",
        "\n",
        "ho mean, median, mode coincidenti\n",
        "\n",
        "ho variance pari a sigma^2\n",
        "\n",
        "ho skewness e curtosi pari a 0\n",
        "\n",
        "Spesso nella maggioranza degli esperimenti e degli algoritmi di data analysis danno un'implicita assunzione di gaussianità. "
      ],
      "metadata": {
        "id": "XnErC6o7AmZi"
      }
    },
    {
      "cell_type": "code",
      "source": [
        "import pandas as pd\n",
        "import pylab as pl\n",
        "import numpy as np\n",
        "\n",
        "# url = \"https://github.com/fedhere/FDSfE_FBianco/blob/main/data/USyoutubes.csv?raw=true\"\n",
        "\n",
        "url = \"https://bit.ly/videosfile\""
      ],
      "metadata": {
        "id": "iLI7ICUdD6S4"
      },
      "execution_count": null,
      "outputs": []
    },
    {
      "cell_type": "code",
      "source": [
        "videos = pd.read_csv(url)\n",
        "videos"
      ],
      "metadata": {
        "colab": {
          "base_uri": "https://localhost:8080/",
          "height": 1000
        },
        "id": "Zi8tP0P8Exug",
        "outputId": "049e9e43-5718-4847-e155-c697e1978962"
      },
      "execution_count": null,
      "outputs": [
        {
          "output_type": "execute_result",
          "data": {
            "text/plain": [
              "      trending_date                                              title  \\\n",
              "0          17.14.11                 WE WANT TO TALK ABOUT OUR MARRIAGE   \n",
              "1          17.14.11  The Trump Presidency: Last Week Tonight with J...   \n",
              "2          17.14.11  Racist Superman | Rudy Mancuso, King Bach & Le...   \n",
              "3          17.14.11                   Nickelback Lyrics: Real or Fake?   \n",
              "4          17.14.11                           I Dare You: GOING BALD!?   \n",
              "...             ...                                                ...   \n",
              "40944      18.14.06                       The Cat Who Caught the Laser   \n",
              "40945      18.14.06                         True Facts : Ant Mutualism   \n",
              "40946      18.14.06  I GAVE SAFIYA NYGAARD A PERFECT HAIR MAKEOVER ...   \n",
              "40947      18.14.06                How Black Panther Should Have Ended   \n",
              "40948      18.14.06  Official Call of Duty®: Black Ops 4 — Multipla...   \n",
              "\n",
              "                  channel_title  category_id              publish_time  \\\n",
              "0                  CaseyNeistat           22  2017-11-13T17:13:01.000Z   \n",
              "1               LastWeekTonight           24  2017-11-13T07:30:00.000Z   \n",
              "2                  Rudy Mancuso           23  2017-11-12T19:05:24.000Z   \n",
              "3         Good Mythical Morning           24  2017-11-13T11:00:04.000Z   \n",
              "4                      nigahiga           24  2017-11-12T18:01:41.000Z   \n",
              "...                         ...          ...                       ...   \n",
              "40944             AaronsAnimals           15  2018-05-18T13:00:04.000Z   \n",
              "40945                  zefrank1           22  2018-05-18T01:00:06.000Z   \n",
              "40946                Brad Mondo           24  2018-05-18T17:34:22.000Z   \n",
              "40947  How It Should Have Ended            1  2018-05-17T17:00:04.000Z   \n",
              "40948              Call of Duty           20  2018-05-17T17:09:38.000Z   \n",
              "\n",
              "                                                    tags     views   likes  \\\n",
              "0                                        SHANtell martin    748374   57527   \n",
              "1      last week tonight trump presidency|\"last week ...   2418783   97185   \n",
              "2      racist superman|\"rudy\"|\"mancuso\"|\"king\"|\"bach\"...   3191434  146033   \n",
              "3      rhett and link|\"gmm\"|\"good mythical morning\"|\"...    343168   10172   \n",
              "4      ryan|\"higa\"|\"higatv\"|\"nigahiga\"|\"i dare you\"|\"...   2095731  132235   \n",
              "...                                                  ...       ...     ...   \n",
              "40944  aarons animals|\"aarons\"|\"animals\"|\"cat\"|\"cats\"...   1685609   38160   \n",
              "40945                                             [none]   1064798   60008   \n",
              "40946  I gave safiya nygaard a perfect hair makeover ...   1066451   48068   \n",
              "40947  Black Panther|\"HISHE\"|\"Marvel\"|\"Infinity War\"|...   5660813  192957   \n",
              "40948      call of duty|\"cod\"|\"activision\"|\"Black Ops 4\"  10306119  357079   \n",
              "\n",
              "       dislikes  comment_count  \n",
              "0          2966          15954  \n",
              "1          6146          12703  \n",
              "2          5339           8181  \n",
              "3           666           2146  \n",
              "4          1989          17518  \n",
              "...         ...            ...  \n",
              "40944      1385           2657  \n",
              "40945       382           3936  \n",
              "40946      1032           3992  \n",
              "40947      2846          13088  \n",
              "40948    212976         144795  \n",
              "\n",
              "[40949 rows x 10 columns]"
            ],
            "text/html": [
              "\n",
              "  <div id=\"df-96ab880d-c6c5-455d-82cd-184a2c28d137\">\n",
              "    <div class=\"colab-df-container\">\n",
              "      <div>\n",
              "<style scoped>\n",
              "    .dataframe tbody tr th:only-of-type {\n",
              "        vertical-align: middle;\n",
              "    }\n",
              "\n",
              "    .dataframe tbody tr th {\n",
              "        vertical-align: top;\n",
              "    }\n",
              "\n",
              "    .dataframe thead th {\n",
              "        text-align: right;\n",
              "    }\n",
              "</style>\n",
              "<table border=\"1\" class=\"dataframe\">\n",
              "  <thead>\n",
              "    <tr style=\"text-align: right;\">\n",
              "      <th></th>\n",
              "      <th>trending_date</th>\n",
              "      <th>title</th>\n",
              "      <th>channel_title</th>\n",
              "      <th>category_id</th>\n",
              "      <th>publish_time</th>\n",
              "      <th>tags</th>\n",
              "      <th>views</th>\n",
              "      <th>likes</th>\n",
              "      <th>dislikes</th>\n",
              "      <th>comment_count</th>\n",
              "    </tr>\n",
              "  </thead>\n",
              "  <tbody>\n",
              "    <tr>\n",
              "      <th>0</th>\n",
              "      <td>17.14.11</td>\n",
              "      <td>WE WANT TO TALK ABOUT OUR MARRIAGE</td>\n",
              "      <td>CaseyNeistat</td>\n",
              "      <td>22</td>\n",
              "      <td>2017-11-13T17:13:01.000Z</td>\n",
              "      <td>SHANtell martin</td>\n",
              "      <td>748374</td>\n",
              "      <td>57527</td>\n",
              "      <td>2966</td>\n",
              "      <td>15954</td>\n",
              "    </tr>\n",
              "    <tr>\n",
              "      <th>1</th>\n",
              "      <td>17.14.11</td>\n",
              "      <td>The Trump Presidency: Last Week Tonight with J...</td>\n",
              "      <td>LastWeekTonight</td>\n",
              "      <td>24</td>\n",
              "      <td>2017-11-13T07:30:00.000Z</td>\n",
              "      <td>last week tonight trump presidency|\"last week ...</td>\n",
              "      <td>2418783</td>\n",
              "      <td>97185</td>\n",
              "      <td>6146</td>\n",
              "      <td>12703</td>\n",
              "    </tr>\n",
              "    <tr>\n",
              "      <th>2</th>\n",
              "      <td>17.14.11</td>\n",
              "      <td>Racist Superman | Rudy Mancuso, King Bach &amp; Le...</td>\n",
              "      <td>Rudy Mancuso</td>\n",
              "      <td>23</td>\n",
              "      <td>2017-11-12T19:05:24.000Z</td>\n",
              "      <td>racist superman|\"rudy\"|\"mancuso\"|\"king\"|\"bach\"...</td>\n",
              "      <td>3191434</td>\n",
              "      <td>146033</td>\n",
              "      <td>5339</td>\n",
              "      <td>8181</td>\n",
              "    </tr>\n",
              "    <tr>\n",
              "      <th>3</th>\n",
              "      <td>17.14.11</td>\n",
              "      <td>Nickelback Lyrics: Real or Fake?</td>\n",
              "      <td>Good Mythical Morning</td>\n",
              "      <td>24</td>\n",
              "      <td>2017-11-13T11:00:04.000Z</td>\n",
              "      <td>rhett and link|\"gmm\"|\"good mythical morning\"|\"...</td>\n",
              "      <td>343168</td>\n",
              "      <td>10172</td>\n",
              "      <td>666</td>\n",
              "      <td>2146</td>\n",
              "    </tr>\n",
              "    <tr>\n",
              "      <th>4</th>\n",
              "      <td>17.14.11</td>\n",
              "      <td>I Dare You: GOING BALD!?</td>\n",
              "      <td>nigahiga</td>\n",
              "      <td>24</td>\n",
              "      <td>2017-11-12T18:01:41.000Z</td>\n",
              "      <td>ryan|\"higa\"|\"higatv\"|\"nigahiga\"|\"i dare you\"|\"...</td>\n",
              "      <td>2095731</td>\n",
              "      <td>132235</td>\n",
              "      <td>1989</td>\n",
              "      <td>17518</td>\n",
              "    </tr>\n",
              "    <tr>\n",
              "      <th>...</th>\n",
              "      <td>...</td>\n",
              "      <td>...</td>\n",
              "      <td>...</td>\n",
              "      <td>...</td>\n",
              "      <td>...</td>\n",
              "      <td>...</td>\n",
              "      <td>...</td>\n",
              "      <td>...</td>\n",
              "      <td>...</td>\n",
              "      <td>...</td>\n",
              "    </tr>\n",
              "    <tr>\n",
              "      <th>40944</th>\n",
              "      <td>18.14.06</td>\n",
              "      <td>The Cat Who Caught the Laser</td>\n",
              "      <td>AaronsAnimals</td>\n",
              "      <td>15</td>\n",
              "      <td>2018-05-18T13:00:04.000Z</td>\n",
              "      <td>aarons animals|\"aarons\"|\"animals\"|\"cat\"|\"cats\"...</td>\n",
              "      <td>1685609</td>\n",
              "      <td>38160</td>\n",
              "      <td>1385</td>\n",
              "      <td>2657</td>\n",
              "    </tr>\n",
              "    <tr>\n",
              "      <th>40945</th>\n",
              "      <td>18.14.06</td>\n",
              "      <td>True Facts : Ant Mutualism</td>\n",
              "      <td>zefrank1</td>\n",
              "      <td>22</td>\n",
              "      <td>2018-05-18T01:00:06.000Z</td>\n",
              "      <td>[none]</td>\n",
              "      <td>1064798</td>\n",
              "      <td>60008</td>\n",
              "      <td>382</td>\n",
              "      <td>3936</td>\n",
              "    </tr>\n",
              "    <tr>\n",
              "      <th>40946</th>\n",
              "      <td>18.14.06</td>\n",
              "      <td>I GAVE SAFIYA NYGAARD A PERFECT HAIR MAKEOVER ...</td>\n",
              "      <td>Brad Mondo</td>\n",
              "      <td>24</td>\n",
              "      <td>2018-05-18T17:34:22.000Z</td>\n",
              "      <td>I gave safiya nygaard a perfect hair makeover ...</td>\n",
              "      <td>1066451</td>\n",
              "      <td>48068</td>\n",
              "      <td>1032</td>\n",
              "      <td>3992</td>\n",
              "    </tr>\n",
              "    <tr>\n",
              "      <th>40947</th>\n",
              "      <td>18.14.06</td>\n",
              "      <td>How Black Panther Should Have Ended</td>\n",
              "      <td>How It Should Have Ended</td>\n",
              "      <td>1</td>\n",
              "      <td>2018-05-17T17:00:04.000Z</td>\n",
              "      <td>Black Panther|\"HISHE\"|\"Marvel\"|\"Infinity War\"|...</td>\n",
              "      <td>5660813</td>\n",
              "      <td>192957</td>\n",
              "      <td>2846</td>\n",
              "      <td>13088</td>\n",
              "    </tr>\n",
              "    <tr>\n",
              "      <th>40948</th>\n",
              "      <td>18.14.06</td>\n",
              "      <td>Official Call of Duty®: Black Ops 4 — Multipla...</td>\n",
              "      <td>Call of Duty</td>\n",
              "      <td>20</td>\n",
              "      <td>2018-05-17T17:09:38.000Z</td>\n",
              "      <td>call of duty|\"cod\"|\"activision\"|\"Black Ops 4\"</td>\n",
              "      <td>10306119</td>\n",
              "      <td>357079</td>\n",
              "      <td>212976</td>\n",
              "      <td>144795</td>\n",
              "    </tr>\n",
              "  </tbody>\n",
              "</table>\n",
              "<p>40949 rows × 10 columns</p>\n",
              "</div>\n",
              "      <button class=\"colab-df-convert\" onclick=\"convertToInteractive('df-96ab880d-c6c5-455d-82cd-184a2c28d137')\"\n",
              "              title=\"Convert this dataframe to an interactive table.\"\n",
              "              style=\"display:none;\">\n",
              "        \n",
              "  <svg xmlns=\"http://www.w3.org/2000/svg\" height=\"24px\"viewBox=\"0 0 24 24\"\n",
              "       width=\"24px\">\n",
              "    <path d=\"M0 0h24v24H0V0z\" fill=\"none\"/>\n",
              "    <path d=\"M18.56 5.44l.94 2.06.94-2.06 2.06-.94-2.06-.94-.94-2.06-.94 2.06-2.06.94zm-11 1L8.5 8.5l.94-2.06 2.06-.94-2.06-.94L8.5 2.5l-.94 2.06-2.06.94zm10 10l.94 2.06.94-2.06 2.06-.94-2.06-.94-.94-2.06-.94 2.06-2.06.94z\"/><path d=\"M17.41 7.96l-1.37-1.37c-.4-.4-.92-.59-1.43-.59-.52 0-1.04.2-1.43.59L10.3 9.45l-7.72 7.72c-.78.78-.78 2.05 0 2.83L4 21.41c.39.39.9.59 1.41.59.51 0 1.02-.2 1.41-.59l7.78-7.78 2.81-2.81c.8-.78.8-2.07 0-2.86zM5.41 20L4 18.59l7.72-7.72 1.47 1.35L5.41 20z\"/>\n",
              "  </svg>\n",
              "      </button>\n",
              "      \n",
              "  <style>\n",
              "    .colab-df-container {\n",
              "      display:flex;\n",
              "      flex-wrap:wrap;\n",
              "      gap: 12px;\n",
              "    }\n",
              "\n",
              "    .colab-df-convert {\n",
              "      background-color: #E8F0FE;\n",
              "      border: none;\n",
              "      border-radius: 50%;\n",
              "      cursor: pointer;\n",
              "      display: none;\n",
              "      fill: #1967D2;\n",
              "      height: 32px;\n",
              "      padding: 0 0 0 0;\n",
              "      width: 32px;\n",
              "    }\n",
              "\n",
              "    .colab-df-convert:hover {\n",
              "      background-color: #E2EBFA;\n",
              "      box-shadow: 0px 1px 2px rgba(60, 64, 67, 0.3), 0px 1px 3px 1px rgba(60, 64, 67, 0.15);\n",
              "      fill: #174EA6;\n",
              "    }\n",
              "\n",
              "    [theme=dark] .colab-df-convert {\n",
              "      background-color: #3B4455;\n",
              "      fill: #D2E3FC;\n",
              "    }\n",
              "\n",
              "    [theme=dark] .colab-df-convert:hover {\n",
              "      background-color: #434B5C;\n",
              "      box-shadow: 0px 1px 3px 1px rgba(0, 0, 0, 0.15);\n",
              "      filter: drop-shadow(0px 1px 2px rgba(0, 0, 0, 0.3));\n",
              "      fill: #FFFFFF;\n",
              "    }\n",
              "  </style>\n",
              "\n",
              "      <script>\n",
              "        const buttonEl =\n",
              "          document.querySelector('#df-96ab880d-c6c5-455d-82cd-184a2c28d137 button.colab-df-convert');\n",
              "        buttonEl.style.display =\n",
              "          google.colab.kernel.accessAllowed ? 'block' : 'none';\n",
              "\n",
              "        async function convertToInteractive(key) {\n",
              "          const element = document.querySelector('#df-96ab880d-c6c5-455d-82cd-184a2c28d137');\n",
              "          const dataTable =\n",
              "            await google.colab.kernel.invokeFunction('convertToInteractive',\n",
              "                                                     [key], {});\n",
              "          if (!dataTable) return;\n",
              "\n",
              "          const docLinkHtml = 'Like what you see? Visit the ' +\n",
              "            '<a target=\"_blank\" href=https://colab.research.google.com/notebooks/data_table.ipynb>data table notebook</a>'\n",
              "            + ' to learn more about interactive tables.';\n",
              "          element.innerHTML = '';\n",
              "          dataTable['output_type'] = 'display_data';\n",
              "          await google.colab.output.renderOutput(dataTable, element);\n",
              "          const docLink = document.createElement('div');\n",
              "          docLink.innerHTML = docLinkHtml;\n",
              "          element.appendChild(docLink);\n",
              "        }\n",
              "      </script>\n",
              "    </div>\n",
              "  </div>\n",
              "  "
            ]
          },
          "metadata": {},
          "execution_count": 2
        }
      ]
    },
    {
      "cell_type": "code",
      "source": [
        "videos.describe()"
      ],
      "metadata": {
        "colab": {
          "base_uri": "https://localhost:8080/",
          "height": 300
        },
        "id": "iJeeyE3cFCiP",
        "outputId": "8a5ec8ec-8fd3-407e-9cc3-1fccdcba6c44"
      },
      "execution_count": null,
      "outputs": [
        {
          "output_type": "execute_result",
          "data": {
            "text/plain": [
              "        category_id         views         likes      dislikes  comment_count\n",
              "count  40949.000000  4.094900e+04  4.094900e+04  4.094900e+04   4.094900e+04\n",
              "mean      19.972429  2.360785e+06  7.426670e+04  3.711401e+03   8.446804e+03\n",
              "std        7.568327  7.394114e+06  2.288853e+05  2.902971e+04   3.743049e+04\n",
              "min        1.000000  5.490000e+02  0.000000e+00  0.000000e+00   0.000000e+00\n",
              "25%       17.000000  2.423290e+05  5.424000e+03  2.020000e+02   6.140000e+02\n",
              "50%       24.000000  6.818610e+05  1.809100e+04  6.310000e+02   1.856000e+03\n",
              "75%       25.000000  1.823157e+06  5.541700e+04  1.938000e+03   5.755000e+03\n",
              "max       43.000000  2.252119e+08  5.613827e+06  1.674420e+06   1.361580e+06"
            ],
            "text/html": [
              "\n",
              "  <div id=\"df-f1094534-bcf5-47bd-9223-c39aa0fd88e6\">\n",
              "    <div class=\"colab-df-container\">\n",
              "      <div>\n",
              "<style scoped>\n",
              "    .dataframe tbody tr th:only-of-type {\n",
              "        vertical-align: middle;\n",
              "    }\n",
              "\n",
              "    .dataframe tbody tr th {\n",
              "        vertical-align: top;\n",
              "    }\n",
              "\n",
              "    .dataframe thead th {\n",
              "        text-align: right;\n",
              "    }\n",
              "</style>\n",
              "<table border=\"1\" class=\"dataframe\">\n",
              "  <thead>\n",
              "    <tr style=\"text-align: right;\">\n",
              "      <th></th>\n",
              "      <th>category_id</th>\n",
              "      <th>views</th>\n",
              "      <th>likes</th>\n",
              "      <th>dislikes</th>\n",
              "      <th>comment_count</th>\n",
              "    </tr>\n",
              "  </thead>\n",
              "  <tbody>\n",
              "    <tr>\n",
              "      <th>count</th>\n",
              "      <td>40949.000000</td>\n",
              "      <td>4.094900e+04</td>\n",
              "      <td>4.094900e+04</td>\n",
              "      <td>4.094900e+04</td>\n",
              "      <td>4.094900e+04</td>\n",
              "    </tr>\n",
              "    <tr>\n",
              "      <th>mean</th>\n",
              "      <td>19.972429</td>\n",
              "      <td>2.360785e+06</td>\n",
              "      <td>7.426670e+04</td>\n",
              "      <td>3.711401e+03</td>\n",
              "      <td>8.446804e+03</td>\n",
              "    </tr>\n",
              "    <tr>\n",
              "      <th>std</th>\n",
              "      <td>7.568327</td>\n",
              "      <td>7.394114e+06</td>\n",
              "      <td>2.288853e+05</td>\n",
              "      <td>2.902971e+04</td>\n",
              "      <td>3.743049e+04</td>\n",
              "    </tr>\n",
              "    <tr>\n",
              "      <th>min</th>\n",
              "      <td>1.000000</td>\n",
              "      <td>5.490000e+02</td>\n",
              "      <td>0.000000e+00</td>\n",
              "      <td>0.000000e+00</td>\n",
              "      <td>0.000000e+00</td>\n",
              "    </tr>\n",
              "    <tr>\n",
              "      <th>25%</th>\n",
              "      <td>17.000000</td>\n",
              "      <td>2.423290e+05</td>\n",
              "      <td>5.424000e+03</td>\n",
              "      <td>2.020000e+02</td>\n",
              "      <td>6.140000e+02</td>\n",
              "    </tr>\n",
              "    <tr>\n",
              "      <th>50%</th>\n",
              "      <td>24.000000</td>\n",
              "      <td>6.818610e+05</td>\n",
              "      <td>1.809100e+04</td>\n",
              "      <td>6.310000e+02</td>\n",
              "      <td>1.856000e+03</td>\n",
              "    </tr>\n",
              "    <tr>\n",
              "      <th>75%</th>\n",
              "      <td>25.000000</td>\n",
              "      <td>1.823157e+06</td>\n",
              "      <td>5.541700e+04</td>\n",
              "      <td>1.938000e+03</td>\n",
              "      <td>5.755000e+03</td>\n",
              "    </tr>\n",
              "    <tr>\n",
              "      <th>max</th>\n",
              "      <td>43.000000</td>\n",
              "      <td>2.252119e+08</td>\n",
              "      <td>5.613827e+06</td>\n",
              "      <td>1.674420e+06</td>\n",
              "      <td>1.361580e+06</td>\n",
              "    </tr>\n",
              "  </tbody>\n",
              "</table>\n",
              "</div>\n",
              "      <button class=\"colab-df-convert\" onclick=\"convertToInteractive('df-f1094534-bcf5-47bd-9223-c39aa0fd88e6')\"\n",
              "              title=\"Convert this dataframe to an interactive table.\"\n",
              "              style=\"display:none;\">\n",
              "        \n",
              "  <svg xmlns=\"http://www.w3.org/2000/svg\" height=\"24px\"viewBox=\"0 0 24 24\"\n",
              "       width=\"24px\">\n",
              "    <path d=\"M0 0h24v24H0V0z\" fill=\"none\"/>\n",
              "    <path d=\"M18.56 5.44l.94 2.06.94-2.06 2.06-.94-2.06-.94-.94-2.06-.94 2.06-2.06.94zm-11 1L8.5 8.5l.94-2.06 2.06-.94-2.06-.94L8.5 2.5l-.94 2.06-2.06.94zm10 10l.94 2.06.94-2.06 2.06-.94-2.06-.94-.94-2.06-.94 2.06-2.06.94z\"/><path d=\"M17.41 7.96l-1.37-1.37c-.4-.4-.92-.59-1.43-.59-.52 0-1.04.2-1.43.59L10.3 9.45l-7.72 7.72c-.78.78-.78 2.05 0 2.83L4 21.41c.39.39.9.59 1.41.59.51 0 1.02-.2 1.41-.59l7.78-7.78 2.81-2.81c.8-.78.8-2.07 0-2.86zM5.41 20L4 18.59l7.72-7.72 1.47 1.35L5.41 20z\"/>\n",
              "  </svg>\n",
              "      </button>\n",
              "      \n",
              "  <style>\n",
              "    .colab-df-container {\n",
              "      display:flex;\n",
              "      flex-wrap:wrap;\n",
              "      gap: 12px;\n",
              "    }\n",
              "\n",
              "    .colab-df-convert {\n",
              "      background-color: #E8F0FE;\n",
              "      border: none;\n",
              "      border-radius: 50%;\n",
              "      cursor: pointer;\n",
              "      display: none;\n",
              "      fill: #1967D2;\n",
              "      height: 32px;\n",
              "      padding: 0 0 0 0;\n",
              "      width: 32px;\n",
              "    }\n",
              "\n",
              "    .colab-df-convert:hover {\n",
              "      background-color: #E2EBFA;\n",
              "      box-shadow: 0px 1px 2px rgba(60, 64, 67, 0.3), 0px 1px 3px 1px rgba(60, 64, 67, 0.15);\n",
              "      fill: #174EA6;\n",
              "    }\n",
              "\n",
              "    [theme=dark] .colab-df-convert {\n",
              "      background-color: #3B4455;\n",
              "      fill: #D2E3FC;\n",
              "    }\n",
              "\n",
              "    [theme=dark] .colab-df-convert:hover {\n",
              "      background-color: #434B5C;\n",
              "      box-shadow: 0px 1px 3px 1px rgba(0, 0, 0, 0.15);\n",
              "      filter: drop-shadow(0px 1px 2px rgba(0, 0, 0, 0.3));\n",
              "      fill: #FFFFFF;\n",
              "    }\n",
              "  </style>\n",
              "\n",
              "      <script>\n",
              "        const buttonEl =\n",
              "          document.querySelector('#df-f1094534-bcf5-47bd-9223-c39aa0fd88e6 button.colab-df-convert');\n",
              "        buttonEl.style.display =\n",
              "          google.colab.kernel.accessAllowed ? 'block' : 'none';\n",
              "\n",
              "        async function convertToInteractive(key) {\n",
              "          const element = document.querySelector('#df-f1094534-bcf5-47bd-9223-c39aa0fd88e6');\n",
              "          const dataTable =\n",
              "            await google.colab.kernel.invokeFunction('convertToInteractive',\n",
              "                                                     [key], {});\n",
              "          if (!dataTable) return;\n",
              "\n",
              "          const docLinkHtml = 'Like what you see? Visit the ' +\n",
              "            '<a target=\"_blank\" href=https://colab.research.google.com/notebooks/data_table.ipynb>data table notebook</a>'\n",
              "            + ' to learn more about interactive tables.';\n",
              "          element.innerHTML = '';\n",
              "          dataTable['output_type'] = 'display_data';\n",
              "          await google.colab.output.renderOutput(dataTable, element);\n",
              "          const docLink = document.createElement('div');\n",
              "          docLink.innerHTML = docLinkHtml;\n",
              "          element.appendChild(docLink);\n",
              "        }\n",
              "      </script>\n",
              "    </div>\n",
              "  </div>\n",
              "  "
            ]
          },
          "metadata": {},
          "execution_count": 3
        }
      ]
    },
    {
      "cell_type": "code",
      "source": [
        "videos.columns"
      ],
      "metadata": {
        "colab": {
          "base_uri": "https://localhost:8080/"
        },
        "id": "3aePYD4jFINY",
        "outputId": "76cff713-2c12-44ee-ef41-f33221382d50"
      },
      "execution_count": null,
      "outputs": [
        {
          "output_type": "execute_result",
          "data": {
            "text/plain": [
              "Index(['trending_date', 'title', 'channel_title', 'category_id',\n",
              "       'publish_time', 'tags', 'views', 'likes', 'dislikes', 'comment_count'],\n",
              "      dtype='object')"
            ]
          },
          "metadata": {},
          "execution_count": 4
        }
      ]
    },
    {
      "cell_type": "code",
      "source": [
        "ncols =videos.describe().columns"
      ],
      "metadata": {
        "id": "k3IvNIVfFmWw"
      },
      "execution_count": null,
      "outputs": []
    },
    {
      "cell_type": "code",
      "source": [
        "videos[ncols].mean()"
      ],
      "metadata": {
        "colab": {
          "base_uri": "https://localhost:8080/"
        },
        "id": "MbhWvxVtGTMP",
        "outputId": "70fdca9e-1963-4f4c-e4cb-427f42103897"
      },
      "execution_count": null,
      "outputs": [
        {
          "output_type": "execute_result",
          "data": {
            "text/plain": [
              "category_id      1.997243e+01\n",
              "views            2.360785e+06\n",
              "likes            7.426670e+04\n",
              "dislikes         3.711401e+03\n",
              "comment_count    8.446804e+03\n",
              "dtype: float64"
            ]
          },
          "metadata": {},
          "execution_count": 6
        }
      ]
    },
    {
      "cell_type": "code",
      "source": [
        "videos[ncols].std()"
      ],
      "metadata": {
        "colab": {
          "base_uri": "https://localhost:8080/"
        },
        "id": "QjTVeqhhGXAp",
        "outputId": "30cc8b9a-610d-4540-e6b2-3672d7e13cd2"
      },
      "execution_count": null,
      "outputs": [
        {
          "output_type": "execute_result",
          "data": {
            "text/plain": [
              "category_id      7.568327e+00\n",
              "views            7.394114e+06\n",
              "likes            2.288853e+05\n",
              "dislikes         2.902971e+04\n",
              "comment_count    3.743049e+04\n",
              "dtype: float64"
            ]
          },
          "metadata": {},
          "execution_count": 7
        }
      ]
    },
    {
      "cell_type": "code",
      "source": [
        "videos_array = videos[ncols].values"
      ],
      "metadata": {
        "id": "V_LDvRUYGbf_"
      },
      "execution_count": null,
      "outputs": []
    },
    {
      "cell_type": "code",
      "source": [
        "videos_array.shape"
      ],
      "metadata": {
        "colab": {
          "base_uri": "https://localhost:8080/"
        },
        "id": "taDX-ZBGGk-_",
        "outputId": "481d5bb5-751a-4249-eef6-60167bb72216"
      },
      "execution_count": null,
      "outputs": [
        {
          "output_type": "execute_result",
          "data": {
            "text/plain": [
              "(40949, 5)"
            ]
          },
          "metadata": {},
          "execution_count": 9
        }
      ]
    },
    {
      "cell_type": "code",
      "source": [
        "videos_array.mean()"
      ],
      "metadata": {
        "colab": {
          "base_uri": "https://localhost:8080/"
        },
        "id": "LswCjK-NGnRY",
        "outputId": "b76e65b1-2c91-4ed0-9249-031171f62108"
      },
      "execution_count": null,
      "outputs": [
        {
          "output_type": "execute_result",
          "data": {
            "text/plain": [
              "489445.9035385479"
            ]
          },
          "metadata": {},
          "execution_count": 10
        }
      ]
    },
    {
      "cell_type": "code",
      "source": [
        "videos_array.mean(axis=0)"
      ],
      "metadata": {
        "colab": {
          "base_uri": "https://localhost:8080/"
        },
        "id": "mXg_w-TnGqKJ",
        "outputId": "8c5866aa-420a-49a6-ef70-466b78f5a23c"
      },
      "execution_count": null,
      "outputs": [
        {
          "output_type": "execute_result",
          "data": {
            "text/plain": [
              "array([1.99724291e+01, 2.36078464e+06, 7.42667024e+04, 3.71140089e+03,\n",
              "       8.44680368e+03])"
            ]
          },
          "metadata": {},
          "execution_count": 11
        }
      ]
    },
    {
      "cell_type": "code",
      "source": [
        "videos_array.mean(axis=1)"
      ],
      "metadata": {
        "colab": {
          "base_uri": "https://localhost:8080/"
        },
        "id": "gl-YbIEaG3Kh",
        "outputId": "31c904f5-2719-46ec-bd73-f3d0a5e84398"
      },
      "execution_count": null,
      "outputs": [
        {
          "output_type": "execute_result",
          "data": {
            "text/plain": [
              "array([ 164968.6,  506968.2,  670202. , ...,  223913.4, 1173941. ,\n",
              "       2204197.8])"
            ]
          },
          "metadata": {},
          "execution_count": 12
        }
      ]
    },
    {
      "cell_type": "code",
      "source": [
        "videos_array.std()"
      ],
      "metadata": {
        "colab": {
          "base_uri": "https://localhost:8080/"
        },
        "id": "6zP_k04gG62P",
        "outputId": "607d7afb-1bbe-4e28-f9b2-a7daa637a8e9"
      },
      "execution_count": null,
      "outputs": [
        {
          "output_type": "execute_result",
          "data": {
            "text/plain": [
              "3438235.954271628"
            ]
          },
          "metadata": {},
          "execution_count": 13
        }
      ]
    },
    {
      "cell_type": "code",
      "source": [
        "videos_array.std(axis=0)"
      ],
      "metadata": {
        "colab": {
          "base_uri": "https://localhost:8080/"
        },
        "id": "LC2vtB2oG_mv",
        "outputId": "25a9651c-c5dd-4b0a-e16f-1fa14084ae8c"
      },
      "execution_count": null,
      "outputs": [
        {
          "output_type": "execute_result",
          "data": {
            "text/plain": [
              "array([7.56823442e+00, 7.39402347e+06, 2.28882543e+05, 2.90293515e+04,\n",
              "       3.74300300e+04])"
            ]
          },
          "metadata": {},
          "execution_count": 14
        }
      ]
    },
    {
      "cell_type": "code",
      "source": [
        "videos_array.std(axis=1)"
      ],
      "metadata": {
        "colab": {
          "base_uri": "https://localhost:8080/"
        },
        "id": "aN6uT9QrHEJb",
        "outputId": "34c2c299-0a0d-48ce-bf6f-bc129e016357"
      },
      "execution_count": null,
      "outputs": [
        {
          "output_type": "execute_result",
          "data": {
            "text/plain": [
              "array([ 292425.42038311,  956563.79675992, 1261809.68799863, ...,\n",
              "        421653.70061016, 2244617.03917947, 4052591.24303892])"
            ]
          },
          "metadata": {},
          "execution_count": 15
        }
      ]
    },
    {
      "cell_type": "code",
      "source": [
        "np.median(videos_array, axis= 0)"
      ],
      "metadata": {
        "colab": {
          "base_uri": "https://localhost:8080/"
        },
        "id": "Hr2pN9OSHKAI",
        "outputId": "d2a4eff6-56fb-4c5f-e80e-fa2938192e9c"
      },
      "execution_count": null,
      "outputs": [
        {
          "output_type": "execute_result",
          "data": {
            "text/plain": [
              "array([2.40000e+01, 6.81861e+05, 1.80910e+04, 6.31000e+02, 1.85600e+03])"
            ]
          },
          "metadata": {},
          "execution_count": 16
        }
      ]
    },
    {
      "cell_type": "code",
      "source": [
        "np.median(videos_array, axis= 1)"
      ],
      "metadata": {
        "colab": {
          "base_uri": "https://localhost:8080/"
        },
        "id": "ScuzfOadHRMf",
        "outputId": "a91066bd-2cd7-4951-eb84-c719d94c2f70"
      },
      "execution_count": null,
      "outputs": [
        {
          "output_type": "execute_result",
          "data": {
            "text/plain": [
              "array([ 15954.,  12703.,   8181., ...,   3992.,  13088., 212976.])"
            ]
          },
          "metadata": {},
          "execution_count": 17
        }
      ]
    },
    {
      "cell_type": "code",
      "source": [
        "# altro comando molto comune è quello di CORRELATION\n",
        "# perché farlo dall'inizio dell'analisi? dipende dalle proprietà statistiche dei dati\n",
        "# è importante chiedersi se i dati siano distribuiti come una gaussiana o meno\n",
        "# e fondamentale è sapere se i dati sono correlati oppure o no\n",
        "\n",
        "# ci sono due variabili correlate (statistiche video di Youtube), che sono:\n",
        "# views and likes\n",
        "# views and dislikes\n",
        "\n",
        "videos.corr()"
      ],
      "metadata": {
        "colab": {
          "base_uri": "https://localhost:8080/",
          "height": 206
        },
        "id": "9PSJrKhiHTWQ",
        "outputId": "1e640ba9-6b80-44cb-98f5-edbb4d35586a"
      },
      "execution_count": null,
      "outputs": [
        {
          "output_type": "execute_result",
          "data": {
            "text/plain": [
              "               category_id     views     likes  dislikes  comment_count\n",
              "category_id       1.000000 -0.168231 -0.173921 -0.033547      -0.076307\n",
              "views            -0.168231  1.000000  0.849177  0.472213       0.617621\n",
              "likes            -0.173921  0.849177  1.000000  0.447186       0.803057\n",
              "dislikes         -0.033547  0.472213  0.447186  1.000000       0.700184\n",
              "comment_count    -0.076307  0.617621  0.803057  0.700184       1.000000"
            ],
            "text/html": [
              "\n",
              "  <div id=\"df-aaf67698-a708-4136-bba2-8f21ff69ef6e\">\n",
              "    <div class=\"colab-df-container\">\n",
              "      <div>\n",
              "<style scoped>\n",
              "    .dataframe tbody tr th:only-of-type {\n",
              "        vertical-align: middle;\n",
              "    }\n",
              "\n",
              "    .dataframe tbody tr th {\n",
              "        vertical-align: top;\n",
              "    }\n",
              "\n",
              "    .dataframe thead th {\n",
              "        text-align: right;\n",
              "    }\n",
              "</style>\n",
              "<table border=\"1\" class=\"dataframe\">\n",
              "  <thead>\n",
              "    <tr style=\"text-align: right;\">\n",
              "      <th></th>\n",
              "      <th>category_id</th>\n",
              "      <th>views</th>\n",
              "      <th>likes</th>\n",
              "      <th>dislikes</th>\n",
              "      <th>comment_count</th>\n",
              "    </tr>\n",
              "  </thead>\n",
              "  <tbody>\n",
              "    <tr>\n",
              "      <th>category_id</th>\n",
              "      <td>1.000000</td>\n",
              "      <td>-0.168231</td>\n",
              "      <td>-0.173921</td>\n",
              "      <td>-0.033547</td>\n",
              "      <td>-0.076307</td>\n",
              "    </tr>\n",
              "    <tr>\n",
              "      <th>views</th>\n",
              "      <td>-0.168231</td>\n",
              "      <td>1.000000</td>\n",
              "      <td>0.849177</td>\n",
              "      <td>0.472213</td>\n",
              "      <td>0.617621</td>\n",
              "    </tr>\n",
              "    <tr>\n",
              "      <th>likes</th>\n",
              "      <td>-0.173921</td>\n",
              "      <td>0.849177</td>\n",
              "      <td>1.000000</td>\n",
              "      <td>0.447186</td>\n",
              "      <td>0.803057</td>\n",
              "    </tr>\n",
              "    <tr>\n",
              "      <th>dislikes</th>\n",
              "      <td>-0.033547</td>\n",
              "      <td>0.472213</td>\n",
              "      <td>0.447186</td>\n",
              "      <td>1.000000</td>\n",
              "      <td>0.700184</td>\n",
              "    </tr>\n",
              "    <tr>\n",
              "      <th>comment_count</th>\n",
              "      <td>-0.076307</td>\n",
              "      <td>0.617621</td>\n",
              "      <td>0.803057</td>\n",
              "      <td>0.700184</td>\n",
              "      <td>1.000000</td>\n",
              "    </tr>\n",
              "  </tbody>\n",
              "</table>\n",
              "</div>\n",
              "      <button class=\"colab-df-convert\" onclick=\"convertToInteractive('df-aaf67698-a708-4136-bba2-8f21ff69ef6e')\"\n",
              "              title=\"Convert this dataframe to an interactive table.\"\n",
              "              style=\"display:none;\">\n",
              "        \n",
              "  <svg xmlns=\"http://www.w3.org/2000/svg\" height=\"24px\"viewBox=\"0 0 24 24\"\n",
              "       width=\"24px\">\n",
              "    <path d=\"M0 0h24v24H0V0z\" fill=\"none\"/>\n",
              "    <path d=\"M18.56 5.44l.94 2.06.94-2.06 2.06-.94-2.06-.94-.94-2.06-.94 2.06-2.06.94zm-11 1L8.5 8.5l.94-2.06 2.06-.94-2.06-.94L8.5 2.5l-.94 2.06-2.06.94zm10 10l.94 2.06.94-2.06 2.06-.94-2.06-.94-.94-2.06-.94 2.06-2.06.94z\"/><path d=\"M17.41 7.96l-1.37-1.37c-.4-.4-.92-.59-1.43-.59-.52 0-1.04.2-1.43.59L10.3 9.45l-7.72 7.72c-.78.78-.78 2.05 0 2.83L4 21.41c.39.39.9.59 1.41.59.51 0 1.02-.2 1.41-.59l7.78-7.78 2.81-2.81c.8-.78.8-2.07 0-2.86zM5.41 20L4 18.59l7.72-7.72 1.47 1.35L5.41 20z\"/>\n",
              "  </svg>\n",
              "      </button>\n",
              "      \n",
              "  <style>\n",
              "    .colab-df-container {\n",
              "      display:flex;\n",
              "      flex-wrap:wrap;\n",
              "      gap: 12px;\n",
              "    }\n",
              "\n",
              "    .colab-df-convert {\n",
              "      background-color: #E8F0FE;\n",
              "      border: none;\n",
              "      border-radius: 50%;\n",
              "      cursor: pointer;\n",
              "      display: none;\n",
              "      fill: #1967D2;\n",
              "      height: 32px;\n",
              "      padding: 0 0 0 0;\n",
              "      width: 32px;\n",
              "    }\n",
              "\n",
              "    .colab-df-convert:hover {\n",
              "      background-color: #E2EBFA;\n",
              "      box-shadow: 0px 1px 2px rgba(60, 64, 67, 0.3), 0px 1px 3px 1px rgba(60, 64, 67, 0.15);\n",
              "      fill: #174EA6;\n",
              "    }\n",
              "\n",
              "    [theme=dark] .colab-df-convert {\n",
              "      background-color: #3B4455;\n",
              "      fill: #D2E3FC;\n",
              "    }\n",
              "\n",
              "    [theme=dark] .colab-df-convert:hover {\n",
              "      background-color: #434B5C;\n",
              "      box-shadow: 0px 1px 3px 1px rgba(0, 0, 0, 0.15);\n",
              "      filter: drop-shadow(0px 1px 2px rgba(0, 0, 0, 0.3));\n",
              "      fill: #FFFFFF;\n",
              "    }\n",
              "  </style>\n",
              "\n",
              "      <script>\n",
              "        const buttonEl =\n",
              "          document.querySelector('#df-aaf67698-a708-4136-bba2-8f21ff69ef6e button.colab-df-convert');\n",
              "        buttonEl.style.display =\n",
              "          google.colab.kernel.accessAllowed ? 'block' : 'none';\n",
              "\n",
              "        async function convertToInteractive(key) {\n",
              "          const element = document.querySelector('#df-aaf67698-a708-4136-bba2-8f21ff69ef6e');\n",
              "          const dataTable =\n",
              "            await google.colab.kernel.invokeFunction('convertToInteractive',\n",
              "                                                     [key], {});\n",
              "          if (!dataTable) return;\n",
              "\n",
              "          const docLinkHtml = 'Like what you see? Visit the ' +\n",
              "            '<a target=\"_blank\" href=https://colab.research.google.com/notebooks/data_table.ipynb>data table notebook</a>'\n",
              "            + ' to learn more about interactive tables.';\n",
              "          element.innerHTML = '';\n",
              "          dataTable['output_type'] = 'display_data';\n",
              "          await google.colab.output.renderOutput(dataTable, element);\n",
              "          const docLink = document.createElement('div');\n",
              "          docLink.innerHTML = docLinkHtml;\n",
              "          element.appendChild(docLink);\n",
              "        }\n",
              "      </script>\n",
              "    </div>\n",
              "  </div>\n",
              "  "
            ]
          },
          "metadata": {},
          "execution_count": 19
        }
      ]
    },
    {
      "cell_type": "code",
      "source": [
        "pl.imshow(videos[ncols[-1:]].corr(), clim=(-1,1), cmap=\"RdBu\");\n",
        "pl.colorbar();\n",
        "pl.xticks([0, 1, 2, 3], [\"views\", \"likes\", \"dislikes\", \"comment_count\"], rotation=45);\n",
        "pl.yticks([0, 1, 2, 3], [\"views\", \"likes\", \"dislikes\", \"comment_count\"], rotation=45);"
      ],
      "metadata": {
        "colab": {
          "base_uri": "https://localhost:8080/",
          "height": 323
        },
        "id": "bf9NEhEHH7Y5",
        "outputId": "4ca48fc3-0dba-4a7e-d9d2-d33388c698d8"
      },
      "execution_count": null,
      "outputs": [
        {
          "output_type": "display_data",
          "data": {
            "text/plain": [
              "<Figure size 432x288 with 2 Axes>"
            ],
            "image/png": "[encoded data removed]"
          },
          "metadata": {
            "needs_background": "light"
          }
        }
      ]
    },
    {
      "cell_type": "markdown",
      "source": [
        "# Due teoremi importanti\n",
        "\n",
        "Ci sono due teoremi fondamentali in questo corso da conoscere:\n",
        "\n",
        "CENTRAL LIMIT THEOREM: Dati x1 ... xN un sample di N elementi da una popolazione con media mu e standard deviation sigma nel limite di N -> infty allora la mean del sample E[x1, ... , xN] tende ad una distribuzione gaussiana con media mu e con standard deviation mu e la rapidità con cui avviene questo processo è 1/sqrt(N); \n",
        "\n",
        "LAW OF LARGE NUMBERS: Supponiamo x1,... xN un sample di variabili indipendenti e identicamente distribuite di una popolazione con media mu e standard deviation sigma, tutte le variabili x1, ... xN hanno media mu e standard deviation sigma.  \n",
        "\n",
        "\n"
      ],
      "metadata": {
        "id": "e48aGX0XKIyQ"
      }
    }
  ]
}