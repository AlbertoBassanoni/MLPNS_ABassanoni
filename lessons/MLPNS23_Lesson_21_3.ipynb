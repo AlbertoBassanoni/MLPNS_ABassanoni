{
  "nbformat": 4,
  "nbformat_minor": 0,
  "metadata": {
    "colab": {
      "provenance": [],
      "authorship_tag": "ABX9TyO/x+YsQMAGYIEXvnT/sMLr",
      "include_colab_link": true
    },
    "kernelspec": {
      "name": "python3",
      "display_name": "Python 3"
    },
    "language_info": {
      "name": "python"
    }
  },
  "cells": [
    {
      "cell_type": "markdown",
      "metadata": {
        "id": "view-in-github",
        "colab_type": "text"
      },
      "source": [
        "<a href=\"https://colab.research.google.com/github/AlbertoBassanoni/MLPNS_ABassanoni/blob/main/MLPNS23_Lesson_21_3.ipynb\" target=\"_parent\"><img src=\"https://colab.research.google.com/assets/colab-badge.svg\" alt=\"Open In Colab\"/></a>"
      ]
    },
    {
      "cell_type": "markdown",
      "source": [
        "# First steps in Machine Learning - What is Machine Learning?\n",
        "\n",
        "Cos'è il machine learning? Il machine learning è un campo di studio che dà l'abilità al computer l'abilità di imparare qualcosa senza che sia esplicitamente programmato (def. vera a metà)\n",
        "\n",
        "Un modello è una formula matematica con dei parametri, come y=ax+b, con a e b parametri e x e y dati. Le componenti essenziali nel machine learning sono un modello e un set di osservabili. Il modello descrive la forma della rappresentazione dei dati che voglio dare, tipo per il modello lineare, rappresento i dati come una riga. Quali possibili righe ci sono? Infinite! E quale concetto mi fa scegliere quale linea prendere? quella che rende i dati ottimali. \n",
        "\n",
        "La questione cuore del machine learning è: come facciamo a far \"imparare\" al codice quali sono i parametri più adatti per i nostri dati? I machine learning models sono rappresentazioni parametrizzate della realtà, dove i parametri sono imparati da un set finito di realizzazione di quella realtà. Il machine learning è la disciplina che studia, sviluppa e applica questi modelli. Un'altra definizione di modello è:\n",
        "\n",
        "Un modello è un low dimensional representation di un higher dimensionality dataset (per esempio in un modello lineare con N dati io mi riduco a 2 parametri a e b)\n",
        "\n",
        "Ci sono tre famiglie di machine learning: unsupervised,supervised e reinforcemente learning. Si usano per:\n",
        "\n",
        "-comprendere la struttura del variable space\n",
        "\n",
        "-classificare in base a degli esempi\n",
        "\n",
        "-applicare regressioni\n",
        "\n",
        "-comprendere quali variabili sono importanti nella predizione\n",
        "\n",
        "## Unsupervised vs supervised learning\n",
        "\n",
        "Per gli unsupervised learning models vale il clustering, ossia si può partizionare lo spazio delle variabili in dei gruppi di dati rispetto ad una funzione target. Gli unsupervised learning models si usano per comprendere la struttura dello spazio delle variabili, la detenzione di anomalie, e riduzione dimensionale delle variabili del modello. La clustering analysis è un'analisi a priori sui raggruppamenti per valutare se i dati provengono dallo stesso fenomeno o da fenomeni diversi. Se ci sono dei punti che non appartengono a dei clusters, possiamo identificare quei punti come anomali, e tipicamente in fisica ci interessano i fenomeni anomali (alla base dei modelli di sicurezze delle carte di credito sono clustering algorithms for anomaly detections). Se ho due gruppi, posso scegliere di caratterizzarli con poche variabili statistiche, riducendo il numero di variabili utilizzate (vedremo il K-MEAN e il DV-SCAN). I modelli unsupervised non necessitano di supervisionare esempi.\n",
        "\n",
        "Invece nel supervised learning si fa classification e regression, ossia consiste nel trovare delle funzioni delle variabili che ci permettono di predire delle proprietà non identificate delle nuove osservabili. Se la variabile che voglio predire è continua, faccio regression, mentre se la variabile che voglio predire è discreta, faccio regression. I modelli supervised funzionano attraverso la supervisione di esempi, e si usano anche per feature selection. \n",
        "\n",
        "\n",
        "\n"
      ],
      "metadata": {
        "id": "bnSohHb4HjeA"
      }
    },
    {
      "cell_type": "markdown",
      "source": [
        "# Train, test and validate\n",
        "\n",
        "Come misuriamo se un modello è buono? Accuratezza, precisione, recall, AOC, ROC. Ci focalizzeremo su ognuno di questi aspetti.\n",
        "\n",
        "Nel Machine Learning riservo sempre un subset dei miei dati per verificare la validità del mio modello, che il modello non deve avere visto in training. Tipicamente si tengono tre subsets distinti per training, testing and validating, e mi serve per provare la solidità e la generalizzabilità del mio modello."
      ],
      "metadata": {
        "id": "rLHBPwS7NYNT"
      }
    }
  ]
}
