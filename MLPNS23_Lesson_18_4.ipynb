{
  "nbformat": 4,
  "nbformat_minor": 0,
  "metadata": {
    "colab": {
      "provenance": [],
      "authorship_tag": "ABX9TyNvazzOIxLzUOhid98doglr",
      "include_colab_link": true
    },
    "kernelspec": {
      "name": "python3",
      "display_name": "Python 3"
    },
    "language_info": {
      "name": "python"
    }
  },
  "cells": [
    {
      "cell_type": "markdown",
      "metadata": {
        "id": "view-in-github",
        "colab_type": "text"
      },
      "source": [
        "<a href=\"https://colab.research.google.com/github/AlbertoBassanoni/MLPNS_ABassanoni/blob/main/MLPNS23_Lesson_18_4.ipynb\" target=\"_parent\"><img src=\"https://colab.research.google.com/assets/colab-badge.svg\" alt=\"Open In Colab\"/></a>"
      ]
    },
    {
      "cell_type": "markdown",
      "source": [
        "#Introduzione alla Data Visualization:\n",
        "\n",
        "Parliamo di visualizzazione di dati scientifici, nel contesto moderno del machine learning e dei big data, che rednono la pratica della visualizzazione scientifica più complessa. Ad esempio, un grafico di visualizzazioni delle relazioni di network umani. Talvolta la visualizzazione non aiuta a comprendere la struttura dei nostri dati. \n",
        "\n",
        "L'alta dimensionalità del grafico impedisce una visualizzazione efficace. Come si può risolvere il problema di avere troppi punti e una dimensionalità dello spazio troppo alto. \n",
        "\n",
        "Per prima cosa, perché ci soffermiamo a pensare criticamente a come fare visualizzazione? L'importanza della visualizzazione è di origine storica! Un esempio semplice è l'Anscombe's quartet, un gruppo di quattro distribuzioni con proprietà statistiche identiche (quali **$\\mu$** media e **$\\sigma$** standard deviation), tuttavia, nel fitting e nella visualizzazione osserviamo che vi sono dei dataset di natura estremamente diversa! Si possono estrarre anche proprietà statistiche più sofisticate, come istogrammi o box whispers graphs (ossia un box che rappresenta l'interquartile range, la media e la mediana). Un'altra ragione importante della data visualization è che si può estendere la visibilità dei propri dati al grande pubblico!\n",
        "\n",
        "Ci sono alcuni plot storici che sono importanti nel contesto della data visualization:\n",
        "\n",
        "- Visualizzazione della campagna dell'esercito francese in Russia di David Messers. La funzione di questo grafico è anti-guerra, e Messers desiderava mostrare un aspetto di storytelling, in cui spiegava le enormi perdite umane subite dai francesi. Spesso bisogna compattare il nostro feature space in uno spazio bidimensionale, e talvolta è molto difficile! Si combina una mappa geografica con la locazione di fiumi, il numero e la distribuzione spaziale dei soldati, la temperatura e il tempo che passa nel corso della campagna. Questo plot è capace di rappresentare complessità in maniera intuitiva;\n",
        "\n",
        "- Visualizzazione dei Coxcombs da parte di Florence Nightingale, che rappresenta con un radial plot la mortalità dell'esercito inglese. Anche questo è un grafico con storytelling di anti-guerra;\n",
        "\n",
        "- Plot di W.E.B. Du Bois, riguardo dei plot sulla liberazione degli schiavi africani in America. Anche qui il suo storytelling ha un obiettivo politico e sociale ben preciso. Vediamo che anche alcuni dettagli, quali l'uso adeguato dei colori e della grafica fanno la differenza;\n",
        "\n",
        "- Hertzsprung-Russel diagram (H-R diagram), ovvero un plot estremamente significativo per un astrofisico che studia l'evoluzione delle stelle. Riesce a rappresentare in uno spazio contenuto tante proprietà stellare, quali massa, dimensione, colore, luminosità e temperatura delle stelle in un unico grafico bidimensionale;\n",
        "\n",
        "- Feynman diagrams, ossia dei plot che rappresentano particelle, scambi di energia ed interazioni che supportano lo studio della particle physics con tool grafici che sostituiscono complesse equazioni;\n",
        "\n",
        "Nella data visualization bisogna sempre bilanciare la bellezza e l'intuitività dei nostri dati con la correttezza, la precisione e l'onestà del nostro plot."
      ],
      "metadata": {
        "id": "FWo9OGbB8trk"
      }
    },
    {
      "cell_type": "markdown",
      "source": [
        "## Buon plot vs cattivo plot:\n",
        "\n",
        "Che cosa crea una cattiva visualizzazione? Tre cose: \n",
        "\n",
        "- **$\\textbf{Ambiguita:}$** Ad esempio, nel plot del prof. Vern Lindberg (vedi slides) si individuano 6 errori: cattivo uso di spazio, labels scritte male e in maniera confusa, sbagliato il titolo, non è stata fittata una linea ai fati, si è sbagliato il senso degli assi e mancano le unità di misura. Tutte queste caratteristiche rendono un post ambiguo, in particolare il pessimo uso dello spazio. Altri esempi di ambiguità si vedono in esempi scientifici, ad esempio i plot che rappresentano posizioni di supernove. Dal punto di vista dell'ambiguità, il background cambia da una supernova all'altra, e l'estensione (stretch) della gamma dei colori è diverso per ogni dataset, e quindi non sono comparabili, e dunque non si può estrarre la relativa luminosità;\n",
        "\n",
        "\n",
        "- **$\\textbf{Distorsione:}$** Questo tipo di errori creano delle incomprensioni nella valutazione ed interpretazione dei dati. Ad esempio, un troncamento artificiale dell'asse y negli istogrammi. Anche i diagrammi a torta sono molto misleading, specie quelle in 3D. Molto spesso si trovano come info-grafica per notizie, politica e sociologia, e l'introduzione della prospettiva e del volume diventa ambiguo visivamente. Sono spesso da evitare, in quanto la risposta della persona che guarda il grafico non è lineare con la frazione rappresentata dalla fetta di cerchio! In altre parole, nell'esempio il 4.6% visivamente sembra più grande di quello che è numericamente. In astrofisica un altro esempio di uso di grafici in maniera distorta sono i grafici di luminosità percepita della stella, che spesso vengono raddoppiati per dare più intuizione sulla simmetria del problema, ma ciò ci dà l'impressione di una certezza statistica molto superiore a quella dei dati di per sé. Alcune volte la distorsione è necessaria, si pensi alle proiezioni piane delle mappe terrestri, che distorcono le distanze (in realtà esiste un algoritmo esatto per la rappresentazione bidimensionale di mappe terrestri, ad opera di uno scienziato giapponese nel 2016);\n",
        "\n",
        "- **$\\textbf{Distrazione:}$** Ultimo e non meno importante è la distrazione, ossia l'introduzione di elementi non necessari che confondono l'osservatore ed impedisce di comprendere ciò che il grafico vuole trasmettere. Ad esempio nel campo dell'infografica può essere l'introduzione di background inutili che creano difficoltà nella lettura dei dati. Esiste un criterio di data-ink ratio per rimuovere gli elementi che creano distrazione (less is more attractive, is the meaning)!\n"
      ],
      "metadata": {
        "id": "qVw7Y6jiEj3R"
      }
    },
    {
      "cell_type": "markdown",
      "source": [
        "## Buoni grafici e Tufte Rules:\n",
        "\n",
        "Edward Tufte è un grande studioso della visualizzazione, ed uno dei suoi principali lavori di visualizzazione che conosciamo tutti sono gli spark-line plot, ossia i plot che si usano come standard per visualizzare gli stock markets in finance. Sono delle time series molto particolari.\n",
        "\n",
        "Elenchiamo ora le regole di Tufte:\n",
        "\n",
        "- La rappresentazione di numeri, come sono fisicamente misurati sulla superficie stessa del grafico, deve essere direttamente proporzionale con le quantità numeriche rappresentate. Ciò è espresso da un Lie Factor, che più è vicino ad uno più il grafico è onesto (evita problemi di distorsione):\n",
        "\n",
        "**$Lie Factor= \\frac{SizeOfEffectInTheGraphics}{SizeOfTheEffectsInTheData}$**\n",
        "\n",
        "- Si devono usare label chiari, dettagliati ed essenziali per evitare ambiguità. Data-ink ratio, bisogna utilizzare una corretta proporzione di inchiostro in base al numero dei dati che dobbiamo rappresentare (evita problemi di distrazione e dei chart junks);\n",
        "\n",
        "**$Data Ink Ratio= \\frac{Amount of Data}{Amount of Ink}$**\n",
        "\n",
        "- Mostra variazioni dei dati, non variazioni del grafico! \n",
        "\n",
        "- Usa small multiples, cercando di incoraggiare la comparazione di più dataset sullo stesso plot in maniera compatta e leggibile (le spark lines si possono creare su python grazie al programma home-made chiamato sparklpy);\n",
        "\n",
        "- Ogni variabile nel nostro feature space deve essere associata soltanto ad un elemento grafico (molto importante!). Ad esempio, associare la stessa variabile a più di un elemento, come colore e posizione, crea una confusione percettiva nell'analisi dell'osservatore, dando luogo a ridondanza. Il numero di informazioni portate dalla dimensione delle rappresentazioni dei dati non deve superare la dimensione dei dati stessi. I grafici non devono citare dei dati fuori contesto, creando ridondanza e ambiguità;\n",
        "\n",
        "Ci sono anche altre regole un po' più moderna, quali quelle di Tamara Munzner (capitolo 6 del suo libro \"Visualization and Data Analysis\")"
      ],
      "metadata": {
        "id": "YHBYt8TIJt76"
      }
    },
    {
      "cell_type": "markdown",
      "source": [
        "#Graphic Vocabulary and Psychophisics:\n",
        "\n",
        "Il vocabolario grafico vuole dire, quali sono gli elementi che posso utilizzare per rappresentare un punto? Forma, colore, posizione, etc... Si può osservare che lo studio scientifico delle visualizzazioni riguarda anche uno studio della fisiologia dell'occhio umano, ed emerge non solo nelle scienze, ma anche nel campo artistico. Quali sensazioni, quali percezioni od emozioni possono rappresentare determinati colori o forme?\n",
        "\n",
        "Parleremo soltanto di visualizzazione bidimensionali, in cui dobbiamo tenere presente dei seguenti elementi. Per prima cosa, che tipo di dati vogliamo visualizzare? \n",
        "\n",
        "- Dati continui, come distanze;\n",
        "\n",
        "- Dati continui ordinali, terremoti;\n",
        "\n",
        "- Dati continui ad intervalli, come campi di temperature;\n",
        "\n",
        "- Dati continui frazionari, ad esempio la velocità di una macchina;\n",
        "\n",
        "- Dati discreti, come il numero di sinapsi celebrali;\n",
        "\n",
        "- Dati discreti contabili, come il numero di voti di un poll;\n",
        "\n",
        "- Dati discreti ordinali, giudizi come \"Buono/cattivo/neutro\";\n",
        "\n",
        "Per dati continui, ordinali e categorici ci sono adeguati rappresentazioni in accordo con la psicofisica, ossia il modo con cui il nostro cervello visualizza ed interpreta stimoli visivi o qualcosa che gli assomiglia (come mappe tattili o uditivi). In generale gli studi sulla psicofisico, ossia gli studi della percezione umana a stimoli visivi, sono studi di tipo statistico in cui si prende un campione di persone che vengono sottoposti a stimoli visivi e si chiede a che cosa vengono associati. \n",
        "\n",
        "C'è una legge psicofisica in stile power law: la magnitudine apparente di tutti i canali sensoriali segue la legge a potenza rispetto all'intensità dello stimolo, del tipo **$S=I^n$**. Ad esempio, la percezione degli elementi di lunghezza scala in maniera lineare (se mi fai vedere una linea 4 volte più spessa delle altre, la percepisco come 4 volte più grande), oppure la brillantezza è sublineare, mentre la saturazione è superlineare, o ancora la risposta all'elettroshock è la legge superlineare a potenza più alta. Si può quindi capire quali sono gli elementi grafici più rilevanti e meno rilevanti da utilizzare a seconda della nostra percezione e del tipo di dato che vogliamo rappresentare. Per esempio, la forma di un punto non si usa mai per rappresentare la quantità, ma per rappresentare la categoria.\n",
        "\n",
        "Un'altra legge psicofisica è la Weber law è una legge che dice che la differenza percettiva non è dovuta solo all'effetto grafico, ma anche del contesto in cui ci si trova.\n"
      ],
      "metadata": {
        "id": "eZbd5iwLCzqi"
      }
    },
    {
      "cell_type": "markdown",
      "source": [
        "## Colore:\n",
        "\n",
        "Ci sono buone e cattive scelte di colore nei nostri dati. Ci sono risposte percettive ai colori che rendono la scelta di un color skin non efficace per rappresentare e comunicare il contenuto dei dati (ad esempio la mappa raimbow, standard per le hit-map, che è percettivamente disomogenea). Nell'esempio della mappa a scalo di grigi vs raimbow map, ho perso visibilità in quest'ultima e ho delle perdite di dettaglio non presenti nei dati. Evitiamolo! \n",
        "\n",
        "Nel contesto della scienza medica ad alcuni dottori sono stati mostrati dei grafici di vasi sanguigni con diversi color map, e si è visto che a seconda del cambio di grafica e di mappa di colori i dottori hanno cambiato l'efficacia della capacità diagnostica, e la rainbow map si è dimostrata la peggiore! Un po' di regole:\n",
        "\n",
        "1) Mai usare rainbow color set;\n",
        "\n",
        "2) Usa diverging color maps per dati dove il center value è speciale (ad esempio dati che passano dal positivo al negativo, una media, una mediana, o un picco);\n",
        "\n",
        "3) usa una color map percettivamente uniforme per dati continui in caso non abbia dei punti speciali o delle singolarità;\n",
        "\n",
        "4) usa una sequential color map se voglio rappresentare una progressione, ad esempio la luminosità di oggetti celesti;\n",
        "\n",
        "Consideriamo anche la color blindness fisiologica, ossia non tutti abbiamo la stessa capacità di percepire i colori, ad esempio 1 uomo su 12 e 1 donna su 200 possono avere problemi di color blindness. Ci sono diversi tools che si possono installare sul nostro PC per controllare se le scelte di colore sono color blindness compliant. Ci sono pubblicazioni riguardo alla scelta di colori di massimo contrasto, che ci dice quali sono il numero massimo e minimo di colori (genericamente 4 o 5 colori sono efficaci).\n",
        "\n",
        "\n"
      ],
      "metadata": {
        "id": "i8dCiV7ZT7qJ"
      }
    },
    {
      "cell_type": "markdown",
      "source": [
        "## Un problema comune: too many points\n",
        "\n",
        "Quanto abbiamo troppi dati, bisogna trovare un modo funzionale per poter rappresentare accuratamente ed efficacemente in un grafico 2D. In base alla densità dei punti, bisognerebbe rappresentarli attraverso delle trasparenze, modificando l'opacità dei vari dati in matplotlib. Ci sono anche soluzioni più sofisticate, come scatter contours.\n",
        "\n",
        "Un altro metodo utile è fare dimensionality reduction, cosa che si può fare quanto ho uno spazio con dimensionalità alta ma non troppi punti. Un modo è la principal component analysis, che è fondamentalmente una trasformazione di linear algebra. \n",
        "\n",
        "Un altro metodo molto comune per la dimensionality reduction è il t-SNE (t-distribuited Stochastic Neighbour Embedding), dove si utilzza un concetto probabilistico. Qual'è la probabilità che un punto a caso dello spazio scelga un altro punto come il suo punto più vicino? Creiamo in uno spazio bidimensionale una distribuzione bidimensionale di probabilità che rappresenti la la mia probabilità nel feature space originale. Il t-SNE utilizza una distribuzione di t-Student, ed è molto utile per esplorare raggruppamenti (ed è simile ad un clustering method). Viene spesso utilizzato per confermare metodi di clustering, ma non si usa direttamente per clustering perché è molto sensibile ad hyperparameters!\n"
      ],
      "metadata": {
        "id": "8Tc0sjYGWPm9"
      }
    },
    {
      "cell_type": "markdown",
      "source": [
        "In sintesi, la visualizzazione deve essere:\n",
        "\n",
        "- ONESTA\n",
        "\n",
        "- CHIARA\n",
        "\n",
        "- CONVINCENTE\n",
        "\n",
        "- ATTRAENTE"
      ],
      "metadata": {
        "id": "2TtqVdWqe14m"
      }
    }
  ]
}